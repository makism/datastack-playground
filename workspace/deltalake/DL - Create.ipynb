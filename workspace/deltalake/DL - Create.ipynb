{
 "cells": [
  {
   "cell_type": "markdown",
   "id": "c998c14f-7129-47bb-9c04-8a1ec669433d",
   "metadata": {},
   "source": [
    "# Imports "
   ]
  },
  {
   "cell_type": "code",
   "execution_count": 23,
   "id": "59bc5a55-5b35-4e38-a13b-b094a11ac7d1",
   "metadata": {
    "execution": {
     "iopub.execute_input": "2023-08-13T19:16:20.699243Z",
     "iopub.status.busy": "2023-08-13T19:16:20.698859Z",
     "iopub.status.idle": "2023-08-13T19:16:20.704422Z",
     "shell.execute_reply": "2023-08-13T19:16:20.703380Z",
     "shell.execute_reply.started": "2023-08-13T19:16:20.699211Z"
    },
    "tags": []
   },
   "outputs": [],
   "source": [
    "import pyspark\n",
    "from pyspark.sql import SparkSession\n",
    "from pyspark.sql import functions as F"
   ]
  },
  {
   "cell_type": "markdown",
   "id": "2b316699-7d96-4c97-9262-5bcf7fcdc811",
   "metadata": {},
   "source": [
    "# Setup"
   ]
  },
  {
   "cell_type": "code",
   "execution_count": 24,
   "id": "2f7dff68-aad3-4529-9575-e887774dd29d",
   "metadata": {
    "execution": {
     "iopub.execute_input": "2023-08-13T19:16:21.946363Z",
     "iopub.status.busy": "2023-08-13T19:16:21.944914Z",
     "iopub.status.idle": "2023-08-13T19:16:21.966825Z",
     "shell.execute_reply": "2023-08-13T19:16:21.965626Z",
     "shell.execute_reply.started": "2023-08-13T19:16:21.946239Z"
    },
    "tags": []
   },
   "outputs": [],
   "source": [
    "spark = (\n",
    "    SparkSession.builder.appName(\"pyspark-notebook\")\n",
    "    .master(\"spark://spark-master:7077\")\n",
    "    .config(\"spark.sql.extensions\", \"io.delta.sql.DeltaSparkSessionExtension\")\n",
    "    .config(\"spark.sql.catalog.spark_catalog\", \"org.apache.spark.sql.delta.catalog.DeltaCatalog\")\n",
    "    .config(\"spark.hadoop.fs.s3a.impl\", \"org.apache.hadoop.fs.s3a.S3AFileSystem\")\n",
    "    .getOrCreate()\n",
    ")"
   ]
  },
  {
   "cell_type": "code",
   "execution_count": 25,
   "id": "a789b784-bab8-4c46-8763-7783151b444c",
   "metadata": {
    "execution": {
     "iopub.execute_input": "2023-08-13T19:16:23.388025Z",
     "iopub.status.busy": "2023-08-13T19:16:23.386877Z",
     "iopub.status.idle": "2023-08-13T19:16:23.396285Z",
     "shell.execute_reply": "2023-08-13T19:16:23.395350Z",
     "shell.execute_reply.started": "2023-08-13T19:16:23.387975Z"
    },
    "tags": []
   },
   "outputs": [],
   "source": [
    "spark._jsc.hadoopConfiguration().set(\"fs.s3a.access.key\", \"minio\")\n",
    "spark._jsc.hadoopConfiguration().set(\"fs.s3a.secret.key\", \"minio123\")\n",
    "spark._jsc.hadoopConfiguration().set(\"fs.s3a.endpoint\", \"http://172.18.0.3:9000\")"
   ]
  },
  {
   "cell_type": "code",
   "execution_count": 26,
   "id": "4b123370-590c-4664-bc9f-977f5ff634d4",
   "metadata": {
    "execution": {
     "iopub.execute_input": "2023-08-13T19:16:24.420826Z",
     "iopub.status.busy": "2023-08-13T19:16:24.419882Z",
     "iopub.status.idle": "2023-08-13T19:16:24.430415Z",
     "shell.execute_reply": "2023-08-13T19:16:24.428364Z",
     "shell.execute_reply.started": "2023-08-13T19:16:24.420747Z"
    },
    "tags": []
   },
   "outputs": [],
   "source": [
    "from delta.tables import *"
   ]
  },
  {
   "cell_type": "markdown",
   "id": "c07dc2be-9fe5-4f2c-912b-632626faa5e5",
   "metadata": {},
   "source": [
    "# Create initial dataframe"
   ]
  },
  {
   "cell_type": "code",
   "execution_count": 27,
   "id": "02836384-27d7-4a1a-89ae-e03dfcebd7d2",
   "metadata": {
    "execution": {
     "iopub.execute_input": "2023-08-13T19:16:41.605230Z",
     "iopub.status.busy": "2023-08-13T19:16:41.604670Z",
     "iopub.status.idle": "2023-08-13T19:16:41.758882Z",
     "shell.execute_reply": "2023-08-13T19:16:41.757940Z",
     "shell.execute_reply.started": "2023-08-13T19:16:41.605199Z"
    },
    "tags": []
   },
   "outputs": [],
   "source": [
    "df = (\n",
    "    spark\n",
    "    .read\n",
    "    .option(\"header\", \"true\")\n",
    "    .csv(\"s3a://incoming/\")\n",
    ")"
   ]
  },
  {
   "cell_type": "code",
   "execution_count": 28,
   "id": "e2763d99-7226-4551-a3ff-4d349746b44e",
   "metadata": {
    "execution": {
     "iopub.execute_input": "2023-08-13T19:16:45.864157Z",
     "iopub.status.busy": "2023-08-13T19:16:45.863649Z",
     "iopub.status.idle": "2023-08-13T19:16:45.875392Z",
     "shell.execute_reply": "2023-08-13T19:16:45.874045Z",
     "shell.execute_reply.started": "2023-08-13T19:16:45.864112Z"
    },
    "tags": []
   },
   "outputs": [],
   "source": [
    "df = df.withColumn(\"source_filename\", F.input_file_name())"
   ]
  },
  {
   "cell_type": "code",
   "execution_count": 29,
   "id": "979c9109-f16f-42d7-bdf9-d21c4db30903",
   "metadata": {
    "execution": {
     "iopub.execute_input": "2023-08-13T19:16:46.390244Z",
     "iopub.status.busy": "2023-08-13T19:16:46.389926Z",
     "iopub.status.idle": "2023-08-13T19:16:46.491504Z",
     "shell.execute_reply": "2023-08-13T19:16:46.490594Z",
     "shell.execute_reply.started": "2023-08-13T19:16:46.390218Z"
    },
    "tags": []
   },
   "outputs": [
    {
     "name": "stdout",
     "output_type": "stream",
     "text": [
      "-RECORD 0----------------------------------------------------------------\n",
      " vendor_id           | 1                                                 \n",
      " pickup_datetime     | 2019-01-15 03:36:12                               \n",
      " dropoff_datetime    | 2019-01-15 03:42:19                               \n",
      " passenger_count     | 1                                                 \n",
      " pickup_location_id  | 230                                               \n",
      " dropoff_location_id | 48                                                \n",
      " fare_amount         | 6.5                                               \n",
      " source_filename     | s3a://incoming/yellow_tripdata_sample_2019_01.csv \n",
      "only showing top 1 row\n",
      "\n"
     ]
    }
   ],
   "source": [
    "df.show(1, truncate=False, vertical=True)"
   ]
  },
  {
   "cell_type": "code",
   "execution_count": 31,
   "id": "321d5b32-80f8-4ed3-8180-1b202fe534b1",
   "metadata": {
    "execution": {
     "iopub.execute_input": "2023-08-13T19:17:53.731329Z",
     "iopub.status.busy": "2023-08-13T19:17:53.730616Z",
     "iopub.status.idle": "2023-08-13T19:17:56.295783Z",
     "shell.execute_reply": "2023-08-13T19:17:56.294864Z",
     "shell.execute_reply.started": "2023-08-13T19:17:53.731272Z"
    },
    "tags": []
   },
   "outputs": [
    {
     "name": "stderr",
     "output_type": "stream",
     "text": [
      "                                                                                \r"
     ]
    }
   ],
   "source": [
    "(\n",
    "    df\n",
    "    .write\n",
    "    .format(\"delta\")\n",
    "    .option(\"delta.checkpointInterval\", 1)\n",
    "    .save(\"s3a://lake/taxis\")\n",
    ")"
   ]
  },
  {
   "cell_type": "markdown",
   "id": "b0806acb-cd57-40ef-9004-22b85b8c26b8",
   "metadata": {},
   "source": [
    "# Check schemas"
   ]
  },
  {
   "cell_type": "code",
   "execution_count": 11,
   "id": "28849d4d-80a2-4d4c-b46c-f9d282f4890f",
   "metadata": {
    "execution": {
     "iopub.execute_input": "2023-08-13T19:02:26.208237Z",
     "iopub.status.busy": "2023-08-13T19:02:26.207321Z",
     "iopub.status.idle": "2023-08-13T19:02:26.289189Z",
     "shell.execute_reply": "2023-08-13T19:02:26.288442Z",
     "shell.execute_reply.started": "2023-08-13T19:02:26.208159Z"
    },
    "tags": []
   },
   "outputs": [],
   "source": [
    "dl = DeltaTable.forPath(spark, \"s3a://lake/taxis\")"
   ]
  },
  {
   "cell_type": "code",
   "execution_count": 12,
   "id": "91f5761e-f71c-45c9-82ef-df1d4b55417b",
   "metadata": {
    "execution": {
     "iopub.execute_input": "2023-08-13T19:02:26.421224Z",
     "iopub.status.busy": "2023-08-13T19:02:26.418438Z",
     "iopub.status.idle": "2023-08-13T19:02:27.372743Z",
     "shell.execute_reply": "2023-08-13T19:02:27.371799Z",
     "shell.execute_reply.started": "2023-08-13T19:02:26.421066Z"
    },
    "tags": []
   },
   "outputs": [
    {
     "name": "stdout",
     "output_type": "stream",
     "text": [
      "-RECORD 0---------------------------------------------------------------------------\n",
      " version             | 0                                                            \n",
      " timestamp           | 2023-08-13 19:01:14                                          \n",
      " userId              | null                                                         \n",
      " userName            | null                                                         \n",
      " operation           | WRITE                                                        \n",
      " operationParameters | {mode -> ErrorIfExists, partitionBy -> []}                   \n",
      " job                 | null                                                         \n",
      " notebook            | null                                                         \n",
      " clusterId           | null                                                         \n",
      " readVersion         | null                                                         \n",
      " isolationLevel      | Serializable                                                 \n",
      " isBlindAppend       | true                                                         \n",
      " operationMetrics    | {numFiles -> 1, numOutputRows -> 15, numOutputBytes -> 3449} \n",
      " userMetadata        | null                                                         \n",
      " engineInfo          | Apache-Spark/3.3.0 Delta-Lake/2.1.0                          \n",
      "\n"
     ]
    }
   ],
   "source": [
    "dl.history().show(truncate=False, vertical=True)"
   ]
  },
  {
   "cell_type": "markdown",
   "id": "bcfdc55b-15e5-453c-b0c3-256026db919e",
   "metadata": {},
   "source": [
    "# Check data "
   ]
  },
  {
   "cell_type": "code",
   "execution_count": 13,
   "id": "d3c90351-aecb-4a9e-84f4-541f69094e2e",
   "metadata": {
    "execution": {
     "iopub.execute_input": "2023-08-13T19:02:29.647418Z",
     "iopub.status.busy": "2023-08-13T19:02:29.647116Z",
     "iopub.status.idle": "2023-08-13T19:02:29.680238Z",
     "shell.execute_reply": "2023-08-13T19:02:29.679297Z",
     "shell.execute_reply.started": "2023-08-13T19:02:29.647393Z"
    },
    "tags": []
   },
   "outputs": [],
   "source": [
    "df = spark.read.format(\"delta\").load(\"s3a://lake/taxis\")"
   ]
  },
  {
   "cell_type": "code",
   "execution_count": 14,
   "id": "0bee189d-437d-432b-b92f-5290f9ceba28",
   "metadata": {
    "execution": {
     "iopub.execute_input": "2023-08-13T19:02:30.290906Z",
     "iopub.status.busy": "2023-08-13T19:02:30.290503Z",
     "iopub.status.idle": "2023-08-13T19:02:31.759107Z",
     "shell.execute_reply": "2023-08-13T19:02:31.757849Z",
     "shell.execute_reply.started": "2023-08-13T19:02:30.290879Z"
    },
    "tags": []
   },
   "outputs": [
    {
     "name": "stderr",
     "output_type": "stream",
     "text": [
      "                                                                                \r"
     ]
    },
    {
     "name": "stdout",
     "output_type": "stream",
     "text": [
      "+---------+-------------------+-------------------+---------------+------------------+-------------------+-----------+--------------------+\n",
      "|vendor_id|    pickup_datetime|   dropoff_datetime|passenger_count|pickup_location_id|dropoff_location_id|fare_amount|     source_filename|\n",
      "+---------+-------------------+-------------------+---------------+------------------+-------------------+-----------+--------------------+\n",
      "|        1|2019-01-15 03:36:12|2019-01-15 03:42:19|              1|               230|                 48|        6.5|s3a://incoming/ye...|\n",
      "|        1|2019-01-25 18:20:32|2019-01-25 18:26:55|              1|               112|                112|        6.0|s3a://incoming/ye...|\n",
      "|        1|2019-01-05 06:47:31|2019-01-05 06:52:19|              1|               107|                  4|        6.0|s3a://incoming/ye...|\n",
      "|        1|2019-01-09 15:08:02|2019-01-09 15:20:17|              1|               143|                158|       11.0|s3a://incoming/ye...|\n",
      "|        1|2019-01-25 18:49:51|2019-01-25 18:56:44|              1|               246|                 90|        6.5|s3a://incoming/ye...|\n",
      "|        1|2019-01-26 18:24:17|2019-01-26 18:39:27|              1|               144|                 45|       10.5|s3a://incoming/ye...|\n",
      "|        1|2019-01-18 15:24:25|2019-01-18 15:40:01|              1|                13|                 68|       14.5|s3a://incoming/ye...|\n",
      "|        1|2019-01-03 14:56:38|2019-01-03 15:10:30|              1|               239|                237|       10.5|s3a://incoming/ye...|\n",
      "|        1|2019-01-04 15:50:52|2019-01-04 16:36:47|              1|               132|                238|       52.0|s3a://incoming/ye...|\n",
      "|        1|2019-01-05 17:55:44|2019-01-05 18:10:41|              1|               264|                264|       10.0|s3a://incoming/ye...|\n",
      "|        1|2019-01-20 22:28:16|2019-01-20 22:37:15|              1|                90|                229|        9.5|s3a://incoming/ye...|\n",
      "|        1|2019-01-17 09:50:15|2019-01-17 09:55:11|              1|               264|                264|        6.0|s3a://incoming/ye...|\n",
      "|        1|2019-01-22 14:43:21|2019-01-22 14:52:39|              1|               237|                236|        7.5|s3a://incoming/ye...|\n",
      "|        1|2019-01-29 20:39:15|2019-01-29 20:48:39|              1|               162|                246|        8.0|s3a://incoming/ye...|\n",
      "|        1|2019-01-03 21:09:26|2019-01-03 21:21:00|              1|               164|                125|       10.5|s3a://incoming/ye...|\n",
      "+---------+-------------------+-------------------+---------------+------------------+-------------------+-----------+--------------------+\n",
      "\n"
     ]
    }
   ],
   "source": [
    "df.show()"
   ]
  }
 ],
 "metadata": {
  "kernelspec": {
   "display_name": "Python 3 (ipykernel)",
   "language": "python",
   "name": "python3"
  },
  "language_info": {
   "codemirror_mode": {
    "name": "ipython",
    "version": 3
   },
   "file_extension": ".py",
   "mimetype": "text/x-python",
   "name": "python",
   "nbconvert_exporter": "python",
   "pygments_lexer": "ipython3",
   "version": "3.10.12"
  }
 },
 "nbformat": 4,
 "nbformat_minor": 5
}
