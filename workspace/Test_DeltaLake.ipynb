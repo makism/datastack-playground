{
 "cells": [
  {
   "cell_type": "markdown",
   "id": "c998c14f-7129-47bb-9c04-8a1ec669433d",
   "metadata": {},
   "source": [
    "# Imports "
   ]
  },
  {
   "cell_type": "code",
   "execution_count": 1,
   "id": "3b7f70c6-da07-4e72-a41a-7148d3573307",
   "metadata": {
    "execution": {
     "iopub.execute_input": "2022-12-26T09:35:03.608159Z",
     "iopub.status.busy": "2022-12-26T09:35:03.607270Z",
     "iopub.status.idle": "2022-12-26T09:35:03.657251Z",
     "shell.execute_reply": "2022-12-26T09:35:03.656659Z",
     "shell.execute_reply.started": "2022-12-26T09:35:03.608113Z"
    }
   },
   "outputs": [],
   "source": [
    "from faker import Faker"
   ]
  },
  {
   "cell_type": "code",
   "execution_count": 2,
   "id": "59bc5a55-5b35-4e38-a13b-b094a11ac7d1",
   "metadata": {
    "execution": {
     "iopub.execute_input": "2022-12-26T09:35:03.815514Z",
     "iopub.status.busy": "2022-12-26T09:35:03.814868Z",
     "iopub.status.idle": "2022-12-26T09:35:03.848457Z",
     "shell.execute_reply": "2022-12-26T09:35:03.847737Z",
     "shell.execute_reply.started": "2022-12-26T09:35:03.815496Z"
    },
    "tags": []
   },
   "outputs": [],
   "source": [
    "import pyspark"
   ]
  },
  {
   "cell_type": "code",
   "execution_count": 3,
   "id": "f3ee13aa-6061-49cd-a002-dfb06fd2e669",
   "metadata": {
    "execution": {
     "iopub.execute_input": "2022-12-26T09:35:04.095642Z",
     "iopub.status.busy": "2022-12-26T09:35:04.095347Z",
     "iopub.status.idle": "2022-12-26T09:35:04.099211Z",
     "shell.execute_reply": "2022-12-26T09:35:04.098289Z",
     "shell.execute_reply.started": "2022-12-26T09:35:04.095622Z"
    },
    "tags": []
   },
   "outputs": [],
   "source": [
    "from pyspark.sql import SparkSession"
   ]
  },
  {
   "cell_type": "code",
   "execution_count": 4,
   "id": "09102200-87bb-4e8c-b734-c83248bf5554",
   "metadata": {
    "execution": {
     "iopub.execute_input": "2022-12-26T09:35:04.257142Z",
     "iopub.status.busy": "2022-12-26T09:35:04.256521Z",
     "iopub.status.idle": "2022-12-26T09:35:04.260681Z",
     "shell.execute_reply": "2022-12-26T09:35:04.259940Z",
     "shell.execute_reply.started": "2022-12-26T09:35:04.257118Z"
    },
    "tags": []
   },
   "outputs": [],
   "source": [
    "from pyspark.sql import functions as F"
   ]
  },
  {
   "cell_type": "markdown",
   "id": "2b316699-7d96-4c97-9262-5bcf7fcdc811",
   "metadata": {},
   "source": [
    "# Setup"
   ]
  },
  {
   "cell_type": "code",
   "execution_count": 5,
   "id": "2f7dff68-aad3-4529-9575-e887774dd29d",
   "metadata": {
    "execution": {
     "iopub.execute_input": "2022-12-26T09:35:04.568120Z",
     "iopub.status.busy": "2022-12-26T09:35:04.567208Z",
     "iopub.status.idle": "2022-12-26T09:35:09.212077Z",
     "shell.execute_reply": "2022-12-26T09:35:09.211291Z",
     "shell.execute_reply.started": "2022-12-26T09:35:04.568083Z"
    },
    "tags": []
   },
   "outputs": [
    {
     "name": "stdout",
     "output_type": "stream",
     "text": [
      ":: loading settings :: url = jar:file:/usr/local/lib/python3.10/dist-packages/pyspark/jars/ivy-2.5.0.jar!/org/apache/ivy/core/settings/ivysettings.xml\n"
     ]
    },
    {
     "name": "stderr",
     "output_type": "stream",
     "text": [
      "Ivy Default Cache set to: /root/.ivy2/cache\n",
      "The jars for the packages stored in: /root/.ivy2/jars\n",
      "io.delta#delta-core_2.12 added as a dependency\n",
      "com.amazonaws#aws-java-sdk-bundle added as a dependency\n",
      "org.apache.hadoop#hadoop-aws added as a dependency\n",
      ":: resolving dependencies :: org.apache.spark#spark-submit-parent-8487d920-f3c6-4043-b8cb-e62042c43638;1.0\n",
      "\tconfs: [default]\n",
      "\tfound io.delta#delta-core_2.12;2.1.0 in central\n",
      "\tfound io.delta#delta-storage;2.1.0 in central\n",
      "\tfound org.antlr#antlr4-runtime;4.8 in central\n",
      "\tfound org.codehaus.jackson#jackson-core-asl;1.9.13 in central\n",
      "\tfound com.amazonaws#aws-java-sdk-bundle;1.12.262 in central\n",
      "\tfound org.apache.hadoop#hadoop-aws;3.3.4 in central\n",
      "\tfound org.wildfly.openssl#wildfly-openssl;1.0.7.Final in central\n",
      ":: resolution report :: resolve 292ms :: artifacts dl 11ms\n",
      "\t:: modules in use:\n",
      "\tcom.amazonaws#aws-java-sdk-bundle;1.12.262 from central in [default]\n",
      "\tio.delta#delta-core_2.12;2.1.0 from central in [default]\n",
      "\tio.delta#delta-storage;2.1.0 from central in [default]\n",
      "\torg.antlr#antlr4-runtime;4.8 from central in [default]\n",
      "\torg.apache.hadoop#hadoop-aws;3.3.4 from central in [default]\n",
      "\torg.codehaus.jackson#jackson-core-asl;1.9.13 from central in [default]\n",
      "\torg.wildfly.openssl#wildfly-openssl;1.0.7.Final from central in [default]\n",
      "\t---------------------------------------------------------------------\n",
      "\t|                  |            modules            ||   artifacts   |\n",
      "\t|       conf       | number| search|dwnlded|evicted|| number|dwnlded|\n",
      "\t---------------------------------------------------------------------\n",
      "\t|      default     |   7   |   0   |   0   |   0   ||   7   |   0   |\n",
      "\t---------------------------------------------------------------------\n",
      ":: retrieving :: org.apache.spark#spark-submit-parent-8487d920-f3c6-4043-b8cb-e62042c43638\n",
      "\tconfs: [default]\n",
      "\t0 artifacts copied, 7 already retrieved (0kB/8ms)\n"
     ]
    },
    {
     "name": "stdout",
     "output_type": "stream",
     "text": [
      "22/12/26 09:35:06 WARN NativeCodeLoader: Unable to load native-hadoop library for your platform... using builtin-java classes where applicable\n"
     ]
    },
    {
     "name": "stderr",
     "output_type": "stream",
     "text": [
      "Setting default log level to \"WARN\".\n",
      "To adjust logging level use sc.setLogLevel(newLevel). For SparkR, use setLogLevel(newLevel).\n"
     ]
    }
   ],
   "source": [
    "spark = (\n",
    "    SparkSession.builder.appName(\"pyspark-notebook\")\n",
    "    .master(\"spark://spark-master:7077\")\n",
    "    .config(\"spark.sql.extensions\", \"io.delta.sql.DeltaSparkSessionExtension\")\n",
    "    .config(\"spark.sql.catalog.spark_catalog\", \"org.apache.spark.sql.delta.catalog.DeltaCatalog\")\n",
    "    .config(\"spark.hadoop.fs.s3a.impl\", \"org.apache.hadoop.fs.s3a.S3AFileSystem\")\n",
    "    .getOrCreate()\n",
    ")"
   ]
  },
  {
   "cell_type": "code",
   "execution_count": 6,
   "id": "a789b784-bab8-4c46-8763-7783151b444c",
   "metadata": {
    "execution": {
     "iopub.execute_input": "2022-12-26T09:35:09.214215Z",
     "iopub.status.busy": "2022-12-26T09:35:09.213837Z",
     "iopub.status.idle": "2022-12-26T09:35:09.222684Z",
     "shell.execute_reply": "2022-12-26T09:35:09.221892Z",
     "shell.execute_reply.started": "2022-12-26T09:35:09.214193Z"
    },
    "tags": []
   },
   "outputs": [],
   "source": [
    "spark._jsc.hadoopConfiguration().set(\"fs.s3a.access.key\", \"minio\")\n",
    "spark._jsc.hadoopConfiguration().set(\"fs.s3a.secret.key\", \"minio123\")\n",
    "spark._jsc.hadoopConfiguration().set(\"fs.s3a.endpoint\", \"http://172.18.0.3:9000\")"
   ]
  },
  {
   "cell_type": "code",
   "execution_count": 7,
   "id": "4b123370-590c-4664-bc9f-977f5ff634d4",
   "metadata": {
    "execution": {
     "iopub.execute_input": "2022-12-26T09:35:09.224492Z",
     "iopub.status.busy": "2022-12-26T09:35:09.223800Z",
     "iopub.status.idle": "2022-12-26T09:35:09.273015Z",
     "shell.execute_reply": "2022-12-26T09:35:09.272081Z",
     "shell.execute_reply.started": "2022-12-26T09:35:09.224448Z"
    }
   },
   "outputs": [],
   "source": [
    "from delta.tables import *"
   ]
  },
  {
   "cell_type": "markdown",
   "id": "c07dc2be-9fe5-4f2c-912b-632626faa5e5",
   "metadata": {},
   "source": [
    "# Create initial dataframe"
   ]
  },
  {
   "cell_type": "code",
   "execution_count": 8,
   "id": "7655e1f1-bb99-4990-b409-7c6e49d13176",
   "metadata": {
    "execution": {
     "iopub.execute_input": "2022-12-26T09:35:09.275192Z",
     "iopub.status.busy": "2022-12-26T09:35:09.274778Z",
     "iopub.status.idle": "2022-12-26T09:35:09.312342Z",
     "shell.execute_reply": "2022-12-26T09:35:09.311597Z",
     "shell.execute_reply.started": "2022-12-26T09:35:09.275161Z"
    },
    "tags": []
   },
   "outputs": [],
   "source": [
    "fake = Faker()"
   ]
  },
  {
   "cell_type": "code",
   "execution_count": 9,
   "id": "c69726a7-a391-4f36-b31e-fada51da70a0",
   "metadata": {
    "execution": {
     "iopub.execute_input": "2022-12-26T09:35:18.202137Z",
     "iopub.status.busy": "2022-12-26T09:35:18.201614Z",
     "iopub.status.idle": "2022-12-26T09:35:18.208414Z",
     "shell.execute_reply": "2022-12-26T09:35:18.207656Z",
     "shell.execute_reply.started": "2022-12-26T09:35:18.202106Z"
    },
    "tags": []
   },
   "outputs": [],
   "source": [
    "data = [\n",
    "    {\"id\": i, \"name\": fake.name(), \"date\": fake.date(), \"address\": fake.address()}\n",
    "    for i in range(10)\n",
    "]"
   ]
  },
  {
   "cell_type": "code",
   "execution_count": 10,
   "id": "02836384-27d7-4a1a-89ae-e03dfcebd7d2",
   "metadata": {
    "execution": {
     "iopub.execute_input": "2022-12-26T09:35:18.387928Z",
     "iopub.status.busy": "2022-12-26T09:35:18.387403Z",
     "iopub.status.idle": "2022-12-26T09:35:21.549784Z",
     "shell.execute_reply": "2022-12-26T09:35:21.548602Z",
     "shell.execute_reply.started": "2022-12-26T09:35:18.387909Z"
    },
    "tags": []
   },
   "outputs": [],
   "source": [
    "df = spark.createDataFrame(data)"
   ]
  },
  {
   "cell_type": "code",
   "execution_count": 11,
   "id": "321d5b32-80f8-4ed3-8180-1b202fe534b1",
   "metadata": {
    "execution": {
     "iopub.execute_input": "2022-12-26T09:35:21.552517Z",
     "iopub.status.busy": "2022-12-26T09:35:21.551892Z",
     "iopub.status.idle": "2022-12-26T09:35:45.093342Z",
     "shell.execute_reply": "2022-12-26T09:35:45.092178Z",
     "shell.execute_reply.started": "2022-12-26T09:35:21.552477Z"
    },
    "tags": []
   },
   "outputs": [
    {
     "name": "stdout",
     "output_type": "stream",
     "text": [
      "22/12/26 09:35:22 WARN MetricsConfig: Cannot locate configuration: tried hadoop-metrics2-s3a-file-system.properties,hadoop-metrics2.properties\n"
     ]
    },
    {
     "name": "stderr",
     "output_type": "stream",
     "text": [
      "                                                                                \r"
     ]
    }
   ],
   "source": [
    "df.write.format(\"delta\").save(\"s3a://lake/users\")"
   ]
  },
  {
   "cell_type": "code",
   "execution_count": 12,
   "id": "0c9f4188-f36f-499e-9a75-befc845dfe16",
   "metadata": {
    "execution": {
     "iopub.execute_input": "2022-12-26T09:35:45.095304Z",
     "iopub.status.busy": "2022-12-26T09:35:45.094864Z",
     "iopub.status.idle": "2022-12-26T09:35:45.644567Z",
     "shell.execute_reply": "2022-12-26T09:35:45.642925Z",
     "shell.execute_reply.started": "2022-12-26T09:35:45.095264Z"
    },
    "tags": []
   },
   "outputs": [
    {
     "name": "stdout",
     "output_type": "stream",
     "text": [
      "+--------------------+----------+---+--------------------+\n",
      "|             address|      date| id|                name|\n",
      "+--------------------+----------+---+--------------------+\n",
      "|748 Medina Ranch\\...|1982-08-19|  0|          April Reed|\n",
      "|5539 Lauren Track...|1984-05-15|  3|      Edwin Mcdonald|\n",
      "|USNV Rogers\\nFPO ...|1990-10-13|  5|         Paul Brooks|\n",
      "|047 Lambert Court...|1990-12-29|  9|          Cody Brown|\n",
      "|054 Allen Straven...|1991-10-11|  6|       Robert Barnes|\n",
      "|51701 Kline Ports...|1998-08-12|  4|        Karen Foster|\n",
      "|0013 Ramirez Vist...|2005-03-12|  1|         Damon Curry|\n",
      "|Unit 4921 Box 019...|2006-11-14|  2|       Angela Howell|\n",
      "|00807 Montgomery ...|2008-09-02|  7|Christopher Williams|\n",
      "|1703 White Shoals...|2020-02-07|  8|    Kimberly Michael|\n",
      "+--------------------+----------+---+--------------------+\n",
      "\n"
     ]
    }
   ],
   "source": [
    "df.select(\"*\").orderBy(\"date\").show()"
   ]
  },
  {
   "cell_type": "code",
   "execution_count": 13,
   "id": "868ff4a9-28ba-417b-8941-d5a2f85751de",
   "metadata": {
    "execution": {
     "iopub.execute_input": "2022-12-26T09:35:45.649072Z",
     "iopub.status.busy": "2022-12-26T09:35:45.648502Z",
     "iopub.status.idle": "2022-12-26T09:35:45.731996Z",
     "shell.execute_reply": "2022-12-26T09:35:45.730497Z",
     "shell.execute_reply.started": "2022-12-26T09:35:45.649011Z"
    }
   },
   "outputs": [],
   "source": [
    "df.createOrReplaceTempView(\"users\")"
   ]
  },
  {
   "cell_type": "markdown",
   "id": "6275bdf9-3d37-4fb6-ae5f-c3999385e477",
   "metadata": {
    "execution": {
     "iopub.status.busy": "2022-12-26T07:54:57.260704Z",
     "iopub.status.idle": "2022-12-26T07:54:57.261123Z",
     "shell.execute_reply": "2022-12-26T07:54:57.260910Z",
     "shell.execute_reply.started": "2022-12-26T07:54:57.260891Z"
    }
   },
   "source": [
    "# Add new data and change the schema "
   ]
  },
  {
   "cell_type": "code",
   "execution_count": 14,
   "id": "c07b3c38-af5f-40f3-8a9c-dd31d989f76a",
   "metadata": {
    "execution": {
     "iopub.execute_input": "2022-12-26T09:36:18.442666Z",
     "iopub.status.busy": "2022-12-26T09:36:18.442408Z",
     "iopub.status.idle": "2022-12-26T09:36:18.458148Z",
     "shell.execute_reply": "2022-12-26T09:36:18.457605Z",
     "shell.execute_reply.started": "2022-12-26T09:36:18.442651Z"
    },
    "tags": []
   },
   "outputs": [],
   "source": [
    "data = [\n",
    "    {\"id\": i, \"name\": fake.name(), \"date\": fake.date(), \"address\": fake.address(), \"ip\": fake.ipv4()}\n",
    "    for i in range(10, 15)\n",
    "]"
   ]
  },
  {
   "cell_type": "code",
   "execution_count": 15,
   "id": "d0fa02fc-6229-43b0-b462-8e7bd46d8de6",
   "metadata": {
    "execution": {
     "iopub.execute_input": "2022-12-26T09:36:19.163566Z",
     "iopub.status.busy": "2022-12-26T09:36:19.163314Z",
     "iopub.status.idle": "2022-12-26T09:36:19.187619Z",
     "shell.execute_reply": "2022-12-26T09:36:19.186891Z",
     "shell.execute_reply.started": "2022-12-26T09:36:19.163551Z"
    }
   },
   "outputs": [],
   "source": [
    "df = spark.createDataFrame(data)"
   ]
  },
  {
   "cell_type": "code",
   "execution_count": 16,
   "id": "cf2962b9-2f20-454d-bd38-11abf21eaac4",
   "metadata": {
    "execution": {
     "iopub.execute_input": "2022-12-26T09:36:21.385534Z",
     "iopub.status.busy": "2022-12-26T09:36:21.385312Z",
     "iopub.status.idle": "2022-12-26T09:36:24.172391Z",
     "shell.execute_reply": "2022-12-26T09:36:24.170929Z",
     "shell.execute_reply.started": "2022-12-26T09:36:21.385519Z"
    },
    "tags": []
   },
   "outputs": [
    {
     "name": "stderr",
     "output_type": "stream",
     "text": [
      "                                                                                \r"
     ]
    }
   ],
   "source": [
    "df.write.format(\"delta\").option(\"mergeSchema\", \"true\").mode(\"append\").save(\"s3a://lake/users\")"
   ]
  },
  {
   "cell_type": "code",
   "execution_count": 19,
   "id": "ba302af3-09ec-4400-bfa9-41ee18acd8af",
   "metadata": {
    "execution": {
     "iopub.execute_input": "2022-12-26T09:39:54.770916Z",
     "iopub.status.busy": "2022-12-26T09:39:54.770259Z",
     "iopub.status.idle": "2022-12-26T09:39:55.113706Z",
     "shell.execute_reply": "2022-12-26T09:39:55.108223Z",
     "shell.execute_reply.started": "2022-12-26T09:39:54.770893Z"
    },
    "tags": []
   },
   "outputs": [
    {
     "name": "stdout",
     "output_type": "stream",
     "text": [
      "+--------+\n",
      "|count(1)|\n",
      "+--------+\n",
      "|      10|\n",
      "+--------+\n",
      "\n"
     ]
    }
   ],
   "source": [
    "spark.sql(\"SELECT COUNT(*) FROM users\").show()"
   ]
  },
  {
   "cell_type": "markdown",
   "id": "b0806acb-cd57-40ef-9004-22b85b8c26b8",
   "metadata": {},
   "source": [
    "# Check schemas"
   ]
  },
  {
   "cell_type": "code",
   "execution_count": 20,
   "id": "28849d4d-80a2-4d4c-b46c-f9d282f4890f",
   "metadata": {
    "execution": {
     "iopub.execute_input": "2022-12-26T09:39:59.018357Z",
     "iopub.status.busy": "2022-12-26T09:39:59.018054Z",
     "iopub.status.idle": "2022-12-26T09:39:59.074068Z",
     "shell.execute_reply": "2022-12-26T09:39:59.073453Z",
     "shell.execute_reply.started": "2022-12-26T09:39:59.018342Z"
    }
   },
   "outputs": [],
   "source": [
    "dl = DeltaTable.forPath(spark, \"s3a://lake/users\")"
   ]
  },
  {
   "cell_type": "code",
   "execution_count": 21,
   "id": "91f5761e-f71c-45c9-82ef-df1d4b55417b",
   "metadata": {
    "execution": {
     "iopub.execute_input": "2022-12-26T09:39:59.563605Z",
     "iopub.status.busy": "2022-12-26T09:39:59.562955Z",
     "iopub.status.idle": "2022-12-26T09:40:00.667309Z",
     "shell.execute_reply": "2022-12-26T09:40:00.666397Z",
     "shell.execute_reply.started": "2022-12-26T09:39:59.563584Z"
    }
   },
   "outputs": [
    {
     "name": "stdout",
     "output_type": "stream",
     "text": [
      "-RECORD 0---------------------------------------------------------------------------\n",
      " version             | 1                                                            \n",
      " timestamp           | 2022-12-26 09:36:21                                          \n",
      " userId              | null                                                         \n",
      " userName            | null                                                         \n",
      " operation           | WRITE                                                        \n",
      " operationParameters | {mode -> Append, partitionBy -> []}                          \n",
      " job                 | null                                                         \n",
      " notebook            | null                                                         \n",
      " clusterId           | null                                                         \n",
      " readVersion         | 0                                                            \n",
      " isolationLevel      | Serializable                                                 \n",
      " isBlindAppend       | true                                                         \n",
      " operationMetrics    | {numFiles -> 2, numOutputRows -> 5, numOutputBytes -> 3778}  \n",
      " userMetadata        | null                                                         \n",
      " engineInfo          | Apache-Spark/3.3.0 Delta-Lake/2.1.0                          \n",
      "-RECORD 1---------------------------------------------------------------------------\n",
      " version             | 0                                                            \n",
      " timestamp           | 2022-12-26 09:35:34                                          \n",
      " userId              | null                                                         \n",
      " userName            | null                                                         \n",
      " operation           | WRITE                                                        \n",
      " operationParameters | {mode -> ErrorIfExists, partitionBy -> []}                   \n",
      " job                 | null                                                         \n",
      " notebook            | null                                                         \n",
      " clusterId           | null                                                         \n",
      " readVersion         | null                                                         \n",
      " isolationLevel      | Serializable                                                 \n",
      " isBlindAppend       | true                                                         \n",
      " operationMetrics    | {numFiles -> 2, numOutputRows -> 10, numOutputBytes -> 3460} \n",
      " userMetadata        | null                                                         \n",
      " engineInfo          | Apache-Spark/3.3.0 Delta-Lake/2.1.0                          \n",
      "\n"
     ]
    }
   ],
   "source": [
    "dl.history().show(truncate=False, vertical=True)"
   ]
  },
  {
   "cell_type": "markdown",
   "id": "bcfdc55b-15e5-453c-b0c3-256026db919e",
   "metadata": {},
   "source": [
    "# Check data "
   ]
  },
  {
   "cell_type": "code",
   "execution_count": 22,
   "id": "d3c90351-aecb-4a9e-84f4-541f69094e2e",
   "metadata": {
    "execution": {
     "iopub.execute_input": "2022-12-26T09:40:19.295541Z",
     "iopub.status.busy": "2022-12-26T09:40:19.295267Z",
     "iopub.status.idle": "2022-12-26T09:40:19.327411Z",
     "shell.execute_reply": "2022-12-26T09:40:19.326707Z",
     "shell.execute_reply.started": "2022-12-26T09:40:19.295512Z"
    },
    "tags": []
   },
   "outputs": [],
   "source": [
    "df = spark.read.format(\"delta\").load(\"s3a://lake/users\")"
   ]
  },
  {
   "cell_type": "code",
   "execution_count": 23,
   "id": "0bee189d-437d-432b-b92f-5290f9ceba28",
   "metadata": {
    "execution": {
     "iopub.execute_input": "2022-12-26T09:40:19.688915Z",
     "iopub.status.busy": "2022-12-26T09:40:19.688653Z",
     "iopub.status.idle": "2022-12-26T09:40:21.350879Z",
     "shell.execute_reply": "2022-12-26T09:40:21.350068Z",
     "shell.execute_reply.started": "2022-12-26T09:40:19.688874Z"
    },
    "tags": []
   },
   "outputs": [
    {
     "name": "stderr",
     "output_type": "stream",
     "text": [
      "                                                                                \r"
     ]
    },
    {
     "name": "stdout",
     "output_type": "stream",
     "text": [
      "+--------------------+----------+---+--------------------+---------------+\n",
      "|             address|      date| id|                name|             ip|\n",
      "+--------------------+----------+---+--------------------+---------------+\n",
      "|9983 John Plaza\\n...|1990-11-19| 12|   Latasha Dickerson|  83.58.118.251|\n",
      "|438 Sheila Meadow...|2007-02-28| 13|           Juan Neal| 136.97.157.151|\n",
      "|642 Jessica Keys ...|2017-07-08| 14|        Edward Smith| 219.111.47.235|\n",
      "|65375 Tanya Light...|2010-11-24| 10|Christina Livingston|  181.81.92.107|\n",
      "|0358 Diana Neck\\n...|1996-09-08| 11|    Jordan Hernandez|160.124.112.146|\n",
      "|USNV Rogers\\nFPO ...|1990-10-13|  5|         Paul Brooks|           null|\n",
      "|054 Allen Straven...|1991-10-11|  6|       Robert Barnes|           null|\n",
      "|00807 Montgomery ...|2008-09-02|  7|Christopher Williams|           null|\n",
      "|1703 White Shoals...|2020-02-07|  8|    Kimberly Michael|           null|\n",
      "|047 Lambert Court...|1990-12-29|  9|          Cody Brown|           null|\n",
      "|748 Medina Ranch\\...|1982-08-19|  0|          April Reed|           null|\n",
      "|0013 Ramirez Vist...|2005-03-12|  1|         Damon Curry|           null|\n",
      "|Unit 4921 Box 019...|2006-11-14|  2|       Angela Howell|           null|\n",
      "|5539 Lauren Track...|1984-05-15|  3|      Edwin Mcdonald|           null|\n",
      "|51701 Kline Ports...|1998-08-12|  4|        Karen Foster|           null|\n",
      "+--------------------+----------+---+--------------------+---------------+\n",
      "\n"
     ]
    }
   ],
   "source": [
    "df.show()"
   ]
  },
  {
   "cell_type": "code",
   "execution_count": 24,
   "id": "3b0d95db-9a08-4489-93b0-eab38d5972d0",
   "metadata": {
    "execution": {
     "iopub.execute_input": "2022-12-26T09:40:21.352871Z",
     "iopub.status.busy": "2022-12-26T09:40:21.352520Z",
     "iopub.status.idle": "2022-12-26T09:40:23.514083Z",
     "shell.execute_reply": "2022-12-26T09:40:23.513239Z",
     "shell.execute_reply.started": "2022-12-26T09:40:21.352836Z"
    }
   },
   "outputs": [
    {
     "name": "stderr",
     "output_type": "stream",
     "text": [
      "                                                                                \r"
     ]
    }
   ],
   "source": [
    "df_v0 = spark.read.format(\"delta\").option(\"versionAsOf\", 0).load(\"s3a://lake/users\")"
   ]
  },
  {
   "cell_type": "code",
   "execution_count": 25,
   "id": "ac1a9b96-2b9e-4c93-b2f7-3f6c774640ab",
   "metadata": {
    "execution": {
     "iopub.execute_input": "2022-12-26T09:40:23.515165Z",
     "iopub.status.busy": "2022-12-26T09:40:23.514880Z",
     "iopub.status.idle": "2022-12-26T09:40:23.553049Z",
     "shell.execute_reply": "2022-12-26T09:40:23.552459Z",
     "shell.execute_reply.started": "2022-12-26T09:40:23.515138Z"
    }
   },
   "outputs": [],
   "source": [
    "df_v1 = spark.read.format(\"delta\").option(\"versionAsOf\", 1).load(\"s3a://lake/users\")"
   ]
  },
  {
   "cell_type": "code",
   "execution_count": 26,
   "id": "8b8bcf4e-dcb4-43d8-b8f1-8d851b7e5b87",
   "metadata": {
    "execution": {
     "iopub.execute_input": "2022-12-26T09:40:23.554697Z",
     "iopub.status.busy": "2022-12-26T09:40:23.554493Z",
     "iopub.status.idle": "2022-12-26T09:40:24.209219Z",
     "shell.execute_reply": "2022-12-26T09:40:24.208175Z",
     "shell.execute_reply.started": "2022-12-26T09:40:23.554679Z"
    }
   },
   "outputs": [
    {
     "data": {
      "text/plain": [
       "10"
      ]
     },
     "execution_count": 26,
     "metadata": {},
     "output_type": "execute_result"
    }
   ],
   "source": [
    "df_v0.count()"
   ]
  },
  {
   "cell_type": "code",
   "execution_count": 27,
   "id": "faec4f2c-0023-4598-8909-1bb890f058d9",
   "metadata": {
    "execution": {
     "iopub.execute_input": "2022-12-26T09:40:24.210473Z",
     "iopub.status.busy": "2022-12-26T09:40:24.210118Z",
     "iopub.status.idle": "2022-12-26T09:40:24.902610Z",
     "shell.execute_reply": "2022-12-26T09:40:24.901908Z",
     "shell.execute_reply.started": "2022-12-26T09:40:24.210441Z"
    }
   },
   "outputs": [
    {
     "data": {
      "text/plain": [
       "15"
      ]
     },
     "execution_count": 27,
     "metadata": {},
     "output_type": "execute_result"
    }
   ],
   "source": [
    "df_v1.count()"
   ]
  },
  {
   "cell_type": "markdown",
   "id": "d7cce5c4-c07d-4c36-b657-bc54e66ff9f6",
   "metadata": {},
   "source": [
    "# Merge "
   ]
  },
  {
   "cell_type": "code",
   "execution_count": 28,
   "id": "c0aa09cb-d804-4070-bdeb-fef03aecd3f5",
   "metadata": {
    "execution": {
     "iopub.execute_input": "2022-12-26T09:40:28.647379Z",
     "iopub.status.busy": "2022-12-26T09:40:28.646976Z",
     "iopub.status.idle": "2022-12-26T09:40:28.652423Z",
     "shell.execute_reply": "2022-12-26T09:40:28.651611Z",
     "shell.execute_reply.started": "2022-12-26T09:40:28.647363Z"
    },
    "tags": []
   },
   "outputs": [],
   "source": [
    "data = [\n",
    "    {\"id\": 0, \"name\": fake.name()},\n",
    "    {\"id\": 1000, \"name\": fake.name(), \"date\": fake.date(), \"address\": fake.address(), \"ip\": fake.ipv4()}\n",
    "\n",
    "]"
   ]
  },
  {
   "cell_type": "code",
   "execution_count": 29,
   "id": "3f82c361-529e-49b4-8378-8075bafd17bf",
   "metadata": {
    "execution": {
     "iopub.execute_input": "2022-12-26T09:40:28.851775Z",
     "iopub.status.busy": "2022-12-26T09:40:28.851514Z",
     "iopub.status.idle": "2022-12-26T09:40:28.874625Z",
     "shell.execute_reply": "2022-12-26T09:40:28.873848Z",
     "shell.execute_reply.started": "2022-12-26T09:40:28.851760Z"
    },
    "tags": []
   },
   "outputs": [],
   "source": [
    "incoming_data = spark.createDataFrame(data)"
   ]
  },
  {
   "cell_type": "code",
   "execution_count": 30,
   "id": "c32451fa-a26b-4a62-bd6a-13249ef0a44e",
   "metadata": {
    "execution": {
     "iopub.execute_input": "2022-12-26T09:40:29.021642Z",
     "iopub.status.busy": "2022-12-26T09:40:29.021016Z",
     "iopub.status.idle": "2022-12-26T09:40:29.206927Z",
     "shell.execute_reply": "2022-12-26T09:40:29.206231Z",
     "shell.execute_reply.started": "2022-12-26T09:40:29.021625Z"
    },
    "tags": []
   },
   "outputs": [
    {
     "name": "stdout",
     "output_type": "stream",
     "text": [
      "+----+-------------+--------------------+----------+--------------+\n",
      "|  id|         name|             address|      date|            ip|\n",
      "+----+-------------+--------------------+----------+--------------+\n",
      "|   0|Shawn Bennett|                null|      null|          null|\n",
      "|1000| George Brown|26456 Brown Field...|2010-12-03|132.187.12.127|\n",
      "+----+-------------+--------------------+----------+--------------+\n",
      "\n"
     ]
    }
   ],
   "source": [
    "incoming_data.show()"
   ]
  },
  {
   "cell_type": "code",
   "execution_count": 31,
   "id": "3a005063-d627-4533-857e-12789e0e4f7b",
   "metadata": {
    "execution": {
     "iopub.execute_input": "2022-12-26T09:40:29.208467Z",
     "iopub.status.busy": "2022-12-26T09:40:29.208229Z",
     "iopub.status.idle": "2022-12-26T09:40:36.569820Z",
     "shell.execute_reply": "2022-12-26T09:40:36.568880Z",
     "shell.execute_reply.started": "2022-12-26T09:40:29.208444Z"
    },
    "tags": []
   },
   "outputs": [
    {
     "name": "stderr",
     "output_type": "stream",
     "text": [
      "                                                                                \r"
     ]
    }
   ],
   "source": [
    "(\n",
    "    dl\n",
    "    .alias(\"users\")\n",
    "    .merge(incoming_data.alias(\"updates\"),\"users.id = updates.id\")\n",
    "    .whenMatchedUpdate(set = { \"name\" : \"updates.name\" } )\n",
    "    .whenNotMatchedInsertAll()\n",
    "    .execute()\n",
    ")"
   ]
  },
  {
   "cell_type": "code",
   "execution_count": 32,
   "id": "b4b0f9ba-93f7-4365-b685-599090f48dff",
   "metadata": {
    "execution": {
     "iopub.execute_input": "2022-12-26T09:40:36.571490Z",
     "iopub.status.busy": "2022-12-26T09:40:36.571225Z",
     "iopub.status.idle": "2022-12-26T09:40:36.874496Z",
     "shell.execute_reply": "2022-12-26T09:40:36.873585Z",
     "shell.execute_reply.started": "2022-12-26T09:40:36.571466Z"
    },
    "tags": []
   },
   "outputs": [
    {
     "name": "stdout",
     "output_type": "stream",
     "text": [
      "+-------+-------------------+------+--------+---------+--------------------+----+--------+---------+-----------+--------------+-------------+--------------------+------------+--------------------+\n",
      "|version|          timestamp|userId|userName|operation| operationParameters| job|notebook|clusterId|readVersion|isolationLevel|isBlindAppend|    operationMetrics|userMetadata|          engineInfo|\n",
      "+-------+-------------------+------+--------+---------+--------------------+----+--------+---------+-----------+--------------+-------------+--------------------+------------+--------------------+\n",
      "|      2|2022-12-26 09:40:33|  null|    null|    MERGE|{predicate -> (us...|null|    null|     null|          1|  Serializable|        false|{numTargetRowsCop...|        null|Apache-Spark/3.3....|\n",
      "|      1|2022-12-26 09:36:21|  null|    null|    WRITE|{mode -> Append, ...|null|    null|     null|          0|  Serializable|         true|{numFiles -> 2, n...|        null|Apache-Spark/3.3....|\n",
      "|      0|2022-12-26 09:35:34|  null|    null|    WRITE|{mode -> ErrorIfE...|null|    null|     null|       null|  Serializable|         true|{numFiles -> 2, n...|        null|Apache-Spark/3.3....|\n",
      "+-------+-------------------+------+--------+---------+--------------------+----+--------+---------+-----------+--------------+-------------+--------------------+------------+--------------------+\n",
      "\n"
     ]
    }
   ],
   "source": [
    "dl.history().show()"
   ]
  },
  {
   "cell_type": "code",
   "execution_count": 33,
   "id": "3137fc26-e121-4d2d-88c5-af0229391617",
   "metadata": {
    "execution": {
     "iopub.execute_input": "2022-12-26T09:40:36.876257Z",
     "iopub.status.busy": "2022-12-26T09:40:36.875842Z",
     "iopub.status.idle": "2022-12-26T09:40:37.097685Z",
     "shell.execute_reply": "2022-12-26T09:40:37.096737Z",
     "shell.execute_reply.started": "2022-12-26T09:40:36.876230Z"
    },
    "tags": []
   },
   "outputs": [
    {
     "name": "stdout",
     "output_type": "stream",
     "text": [
      "+--------------------+----------+---+--------------------+\n",
      "|             address|      date| id|                name|\n",
      "+--------------------+----------+---+--------------------+\n",
      "|748 Medina Ranch\\...|1982-08-19|  0|          April Reed|\n",
      "|0013 Ramirez Vist...|2005-03-12|  1|         Damon Curry|\n",
      "|Unit 4921 Box 019...|2006-11-14|  2|       Angela Howell|\n",
      "|5539 Lauren Track...|1984-05-15|  3|      Edwin Mcdonald|\n",
      "|51701 Kline Ports...|1998-08-12|  4|        Karen Foster|\n",
      "|USNV Rogers\\nFPO ...|1990-10-13|  5|         Paul Brooks|\n",
      "|054 Allen Straven...|1991-10-11|  6|       Robert Barnes|\n",
      "|00807 Montgomery ...|2008-09-02|  7|Christopher Williams|\n",
      "|1703 White Shoals...|2020-02-07|  8|    Kimberly Michael|\n",
      "|047 Lambert Court...|1990-12-29|  9|          Cody Brown|\n",
      "+--------------------+----------+---+--------------------+\n",
      "\n"
     ]
    }
   ],
   "source": [
    "spark.sql(\"SELECT * FROM users\").show()"
   ]
  },
  {
   "cell_type": "markdown",
   "id": "9f96fb08-334d-4b39-a60e-4aafce637c64",
   "metadata": {},
   "source": [
    "# Check the data again "
   ]
  },
  {
   "cell_type": "code",
   "execution_count": 34,
   "id": "9a323f87-a16b-4d50-a45f-a37775bb1434",
   "metadata": {
    "execution": {
     "iopub.execute_input": "2022-12-26T09:41:49.577116Z",
     "iopub.status.busy": "2022-12-26T09:41:49.576864Z",
     "iopub.status.idle": "2022-12-26T09:41:49.602465Z",
     "shell.execute_reply": "2022-12-26T09:41:49.601757Z",
     "shell.execute_reply.started": "2022-12-26T09:41:49.577097Z"
    }
   },
   "outputs": [],
   "source": [
    "df = spark.read.format(\"delta\").load(\"s3a://lake/users\")"
   ]
  },
  {
   "cell_type": "code",
   "execution_count": 36,
   "id": "56a7cfab-fe58-49c1-8739-4ded49de23f9",
   "metadata": {
    "execution": {
     "iopub.execute_input": "2022-12-26T09:42:03.896815Z",
     "iopub.status.busy": "2022-12-26T09:42:03.896557Z",
     "iopub.status.idle": "2022-12-26T09:42:04.588906Z",
     "shell.execute_reply": "2022-12-26T09:42:04.588074Z",
     "shell.execute_reply.started": "2022-12-26T09:42:03.896801Z"
    },
    "tags": []
   },
   "outputs": [
    {
     "data": {
      "text/plain": [
       "16"
      ]
     },
     "execution_count": 36,
     "metadata": {},
     "output_type": "execute_result"
    }
   ],
   "source": [
    "df.count()"
   ]
  },
  {
   "cell_type": "code",
   "execution_count": 37,
   "id": "f9807fcc-9987-44cc-b832-cf920f926650",
   "metadata": {
    "execution": {
     "iopub.execute_input": "2022-12-26T09:42:11.541884Z",
     "iopub.status.busy": "2022-12-26T09:42:11.541355Z",
     "iopub.status.idle": "2022-12-26T09:42:12.196764Z",
     "shell.execute_reply": "2022-12-26T09:42:12.195983Z",
     "shell.execute_reply.started": "2022-12-26T09:42:11.541862Z"
    }
   },
   "outputs": [
    {
     "name": "stdout",
     "output_type": "stream",
     "text": [
      "+--------------------+----------+----+--------------------+---------------+\n",
      "|             address|      date|  id|                name|             ip|\n",
      "+--------------------+----------+----+--------------------+---------------+\n",
      "|748 Medina Ranch\\...|1982-08-19|   0|       Shawn Bennett|           null|\n",
      "|0013 Ramirez Vist...|2005-03-12|   1|         Damon Curry|           null|\n",
      "|Unit 4921 Box 019...|2006-11-14|   2|       Angela Howell|           null|\n",
      "|5539 Lauren Track...|1984-05-15|   3|      Edwin Mcdonald|           null|\n",
      "|51701 Kline Ports...|1998-08-12|   4|        Karen Foster|           null|\n",
      "|26456 Brown Field...|2010-12-03|1000|        George Brown| 132.187.12.127|\n",
      "|9983 John Plaza\\n...|1990-11-19|  12|   Latasha Dickerson|  83.58.118.251|\n",
      "|438 Sheila Meadow...|2007-02-28|  13|           Juan Neal| 136.97.157.151|\n",
      "|642 Jessica Keys ...|2017-07-08|  14|        Edward Smith| 219.111.47.235|\n",
      "|65375 Tanya Light...|2010-11-24|  10|Christina Livingston|  181.81.92.107|\n",
      "|0358 Diana Neck\\n...|1996-09-08|  11|    Jordan Hernandez|160.124.112.146|\n",
      "|USNV Rogers\\nFPO ...|1990-10-13|   5|         Paul Brooks|           null|\n",
      "|054 Allen Straven...|1991-10-11|   6|       Robert Barnes|           null|\n",
      "|00807 Montgomery ...|2008-09-02|   7|Christopher Williams|           null|\n",
      "|1703 White Shoals...|2020-02-07|   8|    Kimberly Michael|           null|\n",
      "|047 Lambert Court...|1990-12-29|   9|          Cody Brown|           null|\n",
      "+--------------------+----------+----+--------------------+---------------+\n",
      "\n"
     ]
    }
   ],
   "source": [
    "df.show()"
   ]
  },
  {
   "cell_type": "markdown",
   "id": "6f62eee7-8f0b-48c2-be2c-a9966bb6719c",
   "metadata": {},
   "source": [
    "# Vacuum "
   ]
  },
  {
   "cell_type": "code",
   "execution_count": null,
   "id": "3b0ef295-5e2a-48ed-8f25-8fbf3d93f065",
   "metadata": {
    "tags": []
   },
   "outputs": [],
   "source": [
    "# dl.vacuum(0) "
   ]
  },
  {
   "cell_type": "code",
   "execution_count": null,
   "id": "c93cd22c-3d18-47fd-81e5-d9b0a9fb9b1d",
   "metadata": {},
   "outputs": [],
   "source": []
  }
 ],
 "metadata": {
  "kernelspec": {
   "display_name": "Python 3 (ipykernel)",
   "language": "python",
   "name": "python3"
  },
  "language_info": {
   "codemirror_mode": {
    "name": "ipython",
    "version": 3
   },
   "file_extension": ".py",
   "mimetype": "text/x-python",
   "name": "python",
   "nbconvert_exporter": "python",
   "pygments_lexer": "ipython3",
   "version": "3.10.6"
  }
 },
 "nbformat": 4,
 "nbformat_minor": 5
}
