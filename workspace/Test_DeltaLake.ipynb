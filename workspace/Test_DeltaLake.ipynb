{
 "cells": [
  {
   "cell_type": "code",
   "execution_count": null,
   "id": "59bc5a55-5b35-4e38-a13b-b094a11ac7d1",
   "metadata": {
    "tags": []
   },
   "outputs": [],
   "source": [
    "import pyspark"
   ]
  },
  {
   "cell_type": "code",
   "execution_count": null,
   "id": "f3ee13aa-6061-49cd-a002-dfb06fd2e669",
   "metadata": {
    "tags": []
   },
   "outputs": [],
   "source": [
    "from pyspark.sql import SparkSession"
   ]
  },
  {
   "cell_type": "code",
   "execution_count": null,
   "id": "2f7dff68-aad3-4529-9575-e887774dd29d",
   "metadata": {
    "tags": []
   },
   "outputs": [],
   "source": [
    "spark = (\n",
    "    SparkSession.builder.appName(\"pyspark-notebook\")\n",
    "    .master(\"spark://spark-master:7077\")\n",
    "    .config(\"spark.sql.extensions\", \"io.delta.sql.DeltaSparkSessionExtension\")\n",
    "    .config(\"spark.sql.catalog.spark_catalog\", \"org.apache.spark.sql.delta.catalog.DeltaCatalog\")\n",
    "    .config(\"spark.hadoop.fs.s3a.impl\", \"org.apache.hadoop.fs.s3a.S3AFileSystem\")\n",
    "    .getOrCreate()\n",
    ")"
   ]
  },
  {
   "cell_type": "code",
   "execution_count": null,
   "id": "a789b784-bab8-4c46-8763-7783151b444c",
   "metadata": {
    "tags": []
   },
   "outputs": [],
   "source": [
    "spark._jsc.hadoopConfiguration().set(\"fs.s3a.access.key\", \"minio\")\n",
    "spark._jsc.hadoopConfiguration().set(\"fs.s3a.secret.key\", \"minio123\")\n",
    "spark._jsc.hadoopConfiguration().set(\"fs.s3a.endpoint\", \"http://127.0.0.1:9000\")"
   ]
  },
  {
   "cell_type": "code",
   "execution_count": null,
   "id": "105b1a36-4cfa-46de-affe-ea1a9a647249",
   "metadata": {},
   "outputs": [],
   "source": [
    "data = spark.range(0, 5)"
   ]
  },
  {
   "cell_type": "code",
   "execution_count": null,
   "id": "91940cb6-f668-4e39-83d9-8b16ef336bdb",
   "metadata": {},
   "outputs": [],
   "source": [
    "data"
   ]
  },
  {
   "cell_type": "markdown",
   "id": "04068f55-a99f-42ac-8596-99d115774157",
   "metadata": {},
   "source": [
    "https://delta.io/learn/getting-started/"
   ]
  },
  {
   "cell_type": "markdown",
   "id": "b7f76218-7e3c-4839-89ab-609131d7c643",
   "metadata": {},
   "source": [
    "https://books.japila.pl/pyspark-internals/PythonRDD/"
   ]
  },
  {
   "cell_type": "code",
   "execution_count": null,
   "id": "321d5b32-80f8-4ed3-8180-1b202fe534b1",
   "metadata": {
    "tags": []
   },
   "outputs": [],
   "source": [
    "data.write.format(\"delta\").save(\"s3a://delta/new_table\")"
   ]
  },
  {
   "cell_type": "code",
   "execution_count": null,
   "id": "524a28cd-5f92-4bc6-a50c-91a56aad9a6d",
   "metadata": {},
   "outputs": [],
   "source": []
  }
 ],
 "metadata": {
  "kernelspec": {
   "display_name": "Python 3 (ipykernel)",
   "language": "python",
   "name": "python3"
  },
  "language_info": {
   "codemirror_mode": {
    "name": "ipython",
    "version": 3
   },
   "file_extension": ".py",
   "mimetype": "text/x-python",
   "name": "python",
   "nbconvert_exporter": "python",
   "pygments_lexer": "ipython3",
   "version": "3.10.6"
  }
 },
 "nbformat": 4,
 "nbformat_minor": 5
}
