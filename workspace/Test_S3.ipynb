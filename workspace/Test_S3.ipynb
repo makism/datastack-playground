{
 "cells": [
  {
   "cell_type": "code",
   "execution_count": 1,
   "id": "59bc5a55-5b35-4e38-a13b-b094a11ac7d1",
   "metadata": {
    "execution": {
     "iopub.execute_input": "2022-12-20T07:50:34.609825Z",
     "iopub.status.busy": "2022-12-20T07:50:34.609323Z",
     "iopub.status.idle": "2022-12-20T07:50:34.675387Z",
     "shell.execute_reply": "2022-12-20T07:50:34.674775Z",
     "shell.execute_reply.started": "2022-12-20T07:50:34.609791Z"
    },
    "tags": []
   },
   "outputs": [],
   "source": [
    "import pyspark"
   ]
  },
  {
   "cell_type": "code",
   "execution_count": 2,
   "id": "f3ee13aa-6061-49cd-a002-dfb06fd2e669",
   "metadata": {
    "execution": {
     "iopub.execute_input": "2022-12-20T07:50:34.676559Z",
     "iopub.status.busy": "2022-12-20T07:50:34.676276Z",
     "iopub.status.idle": "2022-12-20T07:50:34.680248Z",
     "shell.execute_reply": "2022-12-20T07:50:34.679518Z",
     "shell.execute_reply.started": "2022-12-20T07:50:34.676530Z"
    },
    "tags": []
   },
   "outputs": [],
   "source": [
    "from pyspark.sql import SparkSession"
   ]
  },
  {
   "cell_type": "code",
   "execution_count": 3,
   "id": "2f7dff68-aad3-4529-9575-e887774dd29d",
   "metadata": {
    "execution": {
     "iopub.execute_input": "2022-12-20T07:50:34.681942Z",
     "iopub.status.busy": "2022-12-20T07:50:34.681440Z",
     "iopub.status.idle": "2022-12-20T07:50:39.404473Z",
     "shell.execute_reply": "2022-12-20T07:50:39.403656Z",
     "shell.execute_reply.started": "2022-12-20T07:50:34.681900Z"
    },
    "tags": []
   },
   "outputs": [
    {
     "name": "stdout",
     "output_type": "stream",
     "text": [
      ":: loading settings :: url = jar:file:/usr/local/lib/python3.10/dist-packages/pyspark/jars/ivy-2.5.0.jar!/org/apache/ivy/core/settings/ivysettings.xml\n"
     ]
    },
    {
     "name": "stderr",
     "output_type": "stream",
     "text": [
      "Ivy Default Cache set to: /root/.ivy2/cache\n",
      "The jars for the packages stored in: /root/.ivy2/jars\n",
      "io.delta#delta-core_2.12 added as a dependency\n",
      "com.amazonaws#aws-java-sdk-bundle added as a dependency\n",
      "org.apache.hadoop#hadoop-aws added as a dependency\n",
      ":: resolving dependencies :: org.apache.spark#spark-submit-parent-5dd88335-bcb1-4f49-88c0-6bf53cdb3153;1.0\n",
      "\tconfs: [default]\n",
      "\tfound io.delta#delta-core_2.12;2.1.0 in central\n",
      "\tfound io.delta#delta-storage;2.1.0 in central\n",
      "\tfound org.antlr#antlr4-runtime;4.8 in central\n",
      "\tfound org.codehaus.jackson#jackson-core-asl;1.9.13 in central\n",
      "\tfound com.amazonaws#aws-java-sdk-bundle;1.12.262 in central\n",
      "\tfound org.apache.hadoop#hadoop-aws;3.3.4 in central\n",
      "\tfound org.wildfly.openssl#wildfly-openssl;1.0.7.Final in central\n",
      ":: resolution report :: resolve 280ms :: artifacts dl 14ms\n",
      "\t:: modules in use:\n",
      "\tcom.amazonaws#aws-java-sdk-bundle;1.12.262 from central in [default]\n",
      "\tio.delta#delta-core_2.12;2.1.0 from central in [default]\n",
      "\tio.delta#delta-storage;2.1.0 from central in [default]\n",
      "\torg.antlr#antlr4-runtime;4.8 from central in [default]\n",
      "\torg.apache.hadoop#hadoop-aws;3.3.4 from central in [default]\n",
      "\torg.codehaus.jackson#jackson-core-asl;1.9.13 from central in [default]\n",
      "\torg.wildfly.openssl#wildfly-openssl;1.0.7.Final from central in [default]\n",
      "\t---------------------------------------------------------------------\n",
      "\t|                  |            modules            ||   artifacts   |\n",
      "\t|       conf       | number| search|dwnlded|evicted|| number|dwnlded|\n",
      "\t---------------------------------------------------------------------\n",
      "\t|      default     |   7   |   0   |   0   |   0   ||   7   |   0   |\n",
      "\t---------------------------------------------------------------------\n",
      ":: retrieving :: org.apache.spark#spark-submit-parent-5dd88335-bcb1-4f49-88c0-6bf53cdb3153\n",
      "\tconfs: [default]\n",
      "\t0 artifacts copied, 7 already retrieved (0kB/7ms)\n"
     ]
    },
    {
     "name": "stdout",
     "output_type": "stream",
     "text": [
      "22/12/20 07:50:36 WARN NativeCodeLoader: Unable to load native-hadoop library for your platform... using builtin-java classes where applicable\n"
     ]
    },
    {
     "name": "stderr",
     "output_type": "stream",
     "text": [
      "Setting default log level to \"WARN\".\n",
      "To adjust logging level use sc.setLogLevel(newLevel). For SparkR, use setLogLevel(newLevel).\n"
     ]
    }
   ],
   "source": [
    "spark = (\n",
    "    SparkSession.builder.appName(\"pyspark-notebook\")\n",
    "    .master(\"spark://spark-master:7077\")\n",
    "    .config(\"spark.hadoop.fs.s3a.impl\", \"org.apache.hadoop.fs.s3a.S3AFileSystem\")\n",
    "    .getOrCreate()\n",
    ")"
   ]
  },
  {
   "cell_type": "code",
   "execution_count": 4,
   "id": "a789b784-bab8-4c46-8763-7783151b444c",
   "metadata": {
    "execution": {
     "iopub.execute_input": "2022-12-20T07:50:39.406514Z",
     "iopub.status.busy": "2022-12-20T07:50:39.406246Z",
     "iopub.status.idle": "2022-12-20T07:50:39.417676Z",
     "shell.execute_reply": "2022-12-20T07:50:39.415966Z",
     "shell.execute_reply.started": "2022-12-20T07:50:39.406491Z"
    },
    "tags": []
   },
   "outputs": [],
   "source": [
    "spark._jsc.hadoopConfiguration().set(\"fs.s3a.access.key\", \"minio\")\n",
    "spark._jsc.hadoopConfiguration().set(\"fs.s3a.secret.key\", \"minio123\")\n",
    "spark._jsc.hadoopConfiguration().set(\"fs.s3a.endpoint\", \"http://172.22.0.2:9000\")"
   ]
  },
  {
   "cell_type": "code",
   "execution_count": 5,
   "id": "321d5b32-80f8-4ed3-8180-1b202fe534b1",
   "metadata": {
    "execution": {
     "iopub.execute_input": "2022-12-20T07:50:39.419123Z",
     "iopub.status.busy": "2022-12-20T07:50:39.418791Z",
     "iopub.status.idle": "2022-12-20T07:50:50.866088Z",
     "shell.execute_reply": "2022-12-20T07:50:50.864746Z",
     "shell.execute_reply.started": "2022-12-20T07:50:39.419094Z"
    },
    "tags": []
   },
   "outputs": [
    {
     "name": "stdout",
     "output_type": "stream",
     "text": [
      "22/12/20 07:50:40 WARN MetricsConfig: Cannot locate configuration: tried hadoop-metrics2-s3a-file-system.properties,hadoop-metrics2.properties\n"
     ]
    },
    {
     "name": "stderr",
     "output_type": "stream",
     "text": [
      "                                                                                \r"
     ]
    }
   ],
   "source": [
    "df = spark.read.options(header=True).csv(\"s3a://incoming/tokens/2022-01-01.csv\")"
   ]
  },
  {
   "cell_type": "code",
   "execution_count": 6,
   "id": "524a28cd-5f92-4bc6-a50c-91a56aad9a6d",
   "metadata": {
    "execution": {
     "iopub.execute_input": "2022-12-20T07:50:50.867588Z",
     "iopub.status.busy": "2022-12-20T07:50:50.867302Z",
     "iopub.status.idle": "2022-12-20T07:50:50.925977Z",
     "shell.execute_reply": "2022-12-20T07:50:50.924961Z",
     "shell.execute_reply.started": "2022-12-20T07:50:50.867560Z"
    },
    "tags": []
   },
   "outputs": [
    {
     "data": {
      "text/plain": [
       "DataFrame[_c0: string, address: string, name: string, symbol: string, decimals: string, total_supply: string]"
      ]
     },
     "execution_count": 6,
     "metadata": {},
     "output_type": "execute_result"
    }
   ],
   "source": [
    "df"
   ]
  },
  {
   "cell_type": "code",
   "execution_count": null,
   "id": "3b6c0527-0835-4321-b210-6d2b65473ede",
   "metadata": {},
   "outputs": [],
   "source": []
  }
 ],
 "metadata": {
  "kernelspec": {
   "display_name": "Python 3 (ipykernel)",
   "language": "python",
   "name": "python3"
  },
  "language_info": {
   "codemirror_mode": {
    "name": "ipython",
    "version": 3
   },
   "file_extension": ".py",
   "mimetype": "text/x-python",
   "name": "python",
   "nbconvert_exporter": "python",
   "pygments_lexer": "ipython3",
   "version": "3.10.6"
  }
 },
 "nbformat": 4,
 "nbformat_minor": 5
}
