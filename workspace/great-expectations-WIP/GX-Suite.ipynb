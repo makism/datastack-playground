{
 "cells": [
  {
   "cell_type": "code",
   "execution_count": 4,
   "id": "9d5c6f8a-8d99-4302-9d0d-ff0cec8261bd",
   "metadata": {
    "execution": {
     "iopub.execute_input": "2023-04-16T16:18:36.194599Z",
     "iopub.status.busy": "2023-04-16T16:18:36.193856Z",
     "iopub.status.idle": "2023-04-16T16:18:36.199549Z",
     "shell.execute_reply": "2023-04-16T16:18:36.198366Z",
     "shell.execute_reply.started": "2023-04-16T16:18:36.194558Z"
    },
    "tags": []
   },
   "outputs": [],
   "source": [
    "import pyspark\n",
    "from pyspark.sql import SparkSession\n",
    "from pyspark.sql import functions as F"
   ]
  },
  {
   "cell_type": "code",
   "execution_count": 5,
   "id": "1101e4e9-2a1e-42a7-947b-be5a77e30cb7",
   "metadata": {
    "execution": {
     "iopub.execute_input": "2023-04-16T16:18:36.681572Z",
     "iopub.status.busy": "2023-04-16T16:18:36.680581Z",
     "iopub.status.idle": "2023-04-16T16:19:17.239505Z",
     "shell.execute_reply": "2023-04-16T16:19:17.237962Z",
     "shell.execute_reply.started": "2023-04-16T16:18:36.681530Z"
    },
    "tags": []
   },
   "outputs": [
    {
     "name": "stdout",
     "output_type": "stream",
     "text": [
      ":: loading settings :: url = jar:file:/usr/local/lib/python3.10/dist-packages/pyspark/jars/ivy-2.5.0.jar!/org/apache/ivy/core/settings/ivysettings.xml\n"
     ]
    },
    {
     "name": "stderr",
     "output_type": "stream",
     "text": [
      "Ivy Default Cache set to: /root/.ivy2/cache\n",
      "The jars for the packages stored in: /root/.ivy2/jars\n",
      "io.delta#delta-core_2.12 added as a dependency\n",
      "com.amazonaws#aws-java-sdk-bundle added as a dependency\n",
      "org.apache.hadoop#hadoop-aws added as a dependency\n",
      ":: resolving dependencies :: org.apache.spark#spark-submit-parent-5cf63798-3b91-49da-b3cf-132138c3b485;1.0\n",
      "\tconfs: [default]\n",
      "\tfound io.delta#delta-core_2.12;2.1.0 in central\n",
      "\tfound io.delta#delta-storage;2.1.0 in central\n",
      "\tfound org.antlr#antlr4-runtime;4.8 in central\n",
      "\tfound org.codehaus.jackson#jackson-core-asl;1.9.13 in central\n",
      "\tfound com.amazonaws#aws-java-sdk-bundle;1.12.262 in central\n",
      "\tfound org.apache.hadoop#hadoop-aws;3.3.4 in central\n",
      "\tfound org.wildfly.openssl#wildfly-openssl;1.0.7.Final in central\n",
      "downloading https://repo1.maven.org/maven2/io/delta/delta-core_2.12/2.1.0/delta-core_2.12-2.1.0.jar ...\n",
      "\t[SUCCESSFUL ] io.delta#delta-core_2.12;2.1.0!delta-core_2.12.jar (285ms)\n",
      "downloading https://repo1.maven.org/maven2/com/amazonaws/aws-java-sdk-bundle/1.12.262/aws-java-sdk-bundle-1.12.262.jar ...\n",
      "\t[SUCCESSFUL ] com.amazonaws#aws-java-sdk-bundle;1.12.262!aws-java-sdk-bundle.jar (21189ms)\n",
      "downloading https://repo1.maven.org/maven2/org/apache/hadoop/hadoop-aws/3.3.4/hadoop-aws-3.3.4.jar ...\n",
      "\t[SUCCESSFUL ] org.apache.hadoop#hadoop-aws;3.3.4!hadoop-aws.jar (103ms)\n",
      "downloading https://repo1.maven.org/maven2/io/delta/delta-storage/2.1.0/delta-storage-2.1.0.jar ...\n",
      "\t[SUCCESSFUL ] io.delta#delta-storage;2.1.0!delta-storage.jar (29ms)\n",
      "downloading https://repo1.maven.org/maven2/org/antlr/antlr4-runtime/4.8/antlr4-runtime-4.8.jar ...\n",
      "\t[SUCCESSFUL ] org.antlr#antlr4-runtime;4.8!antlr4-runtime.jar (53ms)\n",
      "downloading https://repo1.maven.org/maven2/org/codehaus/jackson/jackson-core-asl/1.9.13/jackson-core-asl-1.9.13.jar ...\n",
      "\t[SUCCESSFUL ] org.codehaus.jackson#jackson-core-asl;1.9.13!jackson-core-asl.jar (46ms)\n",
      "downloading https://repo1.maven.org/maven2/org/wildfly/openssl/wildfly-openssl/1.0.7.Final/wildfly-openssl-1.0.7.Final.jar ...\n",
      "\t[SUCCESSFUL ] org.wildfly.openssl#wildfly-openssl;1.0.7.Final!wildfly-openssl.jar (74ms)\n",
      ":: resolution report :: resolve 7336ms :: artifacts dl 21796ms\n",
      "\t:: modules in use:\n",
      "\tcom.amazonaws#aws-java-sdk-bundle;1.12.262 from central in [default]\n",
      "\tio.delta#delta-core_2.12;2.1.0 from central in [default]\n",
      "\tio.delta#delta-storage;2.1.0 from central in [default]\n",
      "\torg.antlr#antlr4-runtime;4.8 from central in [default]\n",
      "\torg.apache.hadoop#hadoop-aws;3.3.4 from central in [default]\n",
      "\torg.codehaus.jackson#jackson-core-asl;1.9.13 from central in [default]\n",
      "\torg.wildfly.openssl#wildfly-openssl;1.0.7.Final from central in [default]\n",
      "\t---------------------------------------------------------------------\n",
      "\t|                  |            modules            ||   artifacts   |\n",
      "\t|       conf       | number| search|dwnlded|evicted|| number|dwnlded|\n",
      "\t---------------------------------------------------------------------\n",
      "\t|      default     |   7   |   7   |   7   |   0   ||   7   |   7   |\n",
      "\t---------------------------------------------------------------------\n",
      ":: retrieving :: org.apache.spark#spark-submit-parent-5cf63798-3b91-49da-b3cf-132138c3b485\n",
      "\tconfs: [default]\n",
      "\t7 artifacts copied, 0 already retrieved (279181kB/651ms)\n"
     ]
    },
    {
     "name": "stdout",
     "output_type": "stream",
     "text": [
      "23/04/16 16:19:11 WARN NativeCodeLoader: Unable to load native-hadoop library for your platform... using builtin-java classes where applicable\n"
     ]
    },
    {
     "name": "stderr",
     "output_type": "stream",
     "text": [
      "Setting default log level to \"WARN\".\n",
      "To adjust logging level use sc.setLogLevel(newLevel). For SparkR, use setLogLevel(newLevel).\n"
     ]
    }
   ],
   "source": [
    "spark = (\n",
    "    SparkSession.builder.appName(\"pyspark-notebook\")\n",
    "    .master(\"spark://spark-master:7077\")\n",
    "    .config(\"spark.sql.extensions\", \"io.delta.sql.DeltaSparkSessionExtension\")\n",
    "    .config(\"spark.sql.catalog.spark_catalog\", \"org.apache.spark.sql.delta.catalog.DeltaCatalog\")\n",
    "    .config(\"spark.hadoop.fs.s3a.impl\", \"org.apache.hadoop.fs.s3a.S3AFileSystem\")\n",
    "    .getOrCreate()\n",
    ")"
   ]
  },
  {
   "cell_type": "code",
   "execution_count": 6,
   "id": "6ec31a3d-e3c9-414c-bffb-c69e894c76d6",
   "metadata": {
    "execution": {
     "iopub.execute_input": "2023-04-16T16:22:55.779898Z",
     "iopub.status.busy": "2023-04-16T16:22:55.779575Z",
     "iopub.status.idle": "2023-04-16T16:22:55.794508Z",
     "shell.execute_reply": "2023-04-16T16:22:55.793708Z",
     "shell.execute_reply.started": "2023-04-16T16:22:55.779860Z"
    },
    "tags": []
   },
   "outputs": [],
   "source": [
    "spark._jsc.hadoopConfiguration().set(\"fs.s3a.access.key\", \"minio\")\n",
    "spark._jsc.hadoopConfiguration().set(\"fs.s3a.secret.key\", \"minio123\")\n",
    "spark._jsc.hadoopConfiguration().set(\"fs.s3a.endpoint\", \"http://172.18.0.2:9000\")"
   ]
  },
  {
   "cell_type": "code",
   "execution_count": 7,
   "id": "4ef47470-1f42-4dee-b786-539b103b09fb",
   "metadata": {
    "execution": {
     "iopub.execute_input": "2023-04-16T16:22:57.328278Z",
     "iopub.status.busy": "2023-04-16T16:22:57.327917Z",
     "iopub.status.idle": "2023-04-16T16:23:05.545841Z",
     "shell.execute_reply": "2023-04-16T16:23:05.544646Z",
     "shell.execute_reply.started": "2023-04-16T16:22:57.328257Z"
    },
    "tags": []
   },
   "outputs": [
    {
     "name": "stdout",
     "output_type": "stream",
     "text": [
      "23/04/16 16:22:58 WARN MetricsConfig: Cannot locate configuration: tried hadoop-metrics2-s3a-file-system.properties,hadoop-metrics2.properties\n"
     ]
    },
    {
     "name": "stderr",
     "output_type": "stream",
     "text": [
      "                                                                                \r"
     ]
    }
   ],
   "source": [
    "df = spark.read.format(\"csv\").load(\"s3a://incoming/yellow_tripdata_sample_2019_01.csv\")"
   ]
  },
  {
   "cell_type": "code",
   "execution_count": 8,
   "id": "129a7a80-f132-44ec-b34d-71ab87c46043",
   "metadata": {
    "execution": {
     "iopub.execute_input": "2023-04-16T16:23:19.397105Z",
     "iopub.status.busy": "2023-04-16T16:23:19.396837Z",
     "iopub.status.idle": "2023-04-16T16:23:19.400054Z",
     "shell.execute_reply": "2023-04-16T16:23:19.399318Z",
     "shell.execute_reply.started": "2023-04-16T16:23:19.397089Z"
    },
    "tags": []
   },
   "outputs": [],
   "source": [
    "# df_ge = ge.dataset.SparkDFDataset(df)"
   ]
  },
  {
   "cell_type": "code",
   "execution_count": 9,
   "id": "8832242f-5bc0-4fc2-916a-2913c73617ee",
   "metadata": {
    "execution": {
     "iopub.execute_input": "2023-04-16T16:23:19.650547Z",
     "iopub.status.busy": "2023-04-16T16:23:19.650185Z",
     "iopub.status.idle": "2023-04-16T16:23:19.654710Z",
     "shell.execute_reply": "2023-04-16T16:23:19.653774Z",
     "shell.execute_reply.started": "2023-04-16T16:23:19.650518Z"
    },
    "tags": []
   },
   "outputs": [],
   "source": [
    "# df_ge.spark_df.count()"
   ]
  },
  {
   "cell_type": "code",
   "execution_count": 10,
   "id": "6b74bdb2-4030-4fa6-af77-e05c4d6d1e30",
   "metadata": {
    "execution": {
     "iopub.execute_input": "2023-04-16T16:23:19.860183Z",
     "iopub.status.busy": "2023-04-16T16:23:19.859844Z",
     "iopub.status.idle": "2023-04-16T16:23:19.863891Z",
     "shell.execute_reply": "2023-04-16T16:23:19.863165Z",
     "shell.execute_reply.started": "2023-04-16T16:23:19.860168Z"
    },
    "tags": []
   },
   "outputs": [],
   "source": [
    "# df_ge.expect_table_row_count_to_be_between(1,20)"
   ]
  },
  {
   "cell_type": "code",
   "execution_count": 11,
   "id": "becd9284-7b34-42d6-bd3b-eb5cd25047fc",
   "metadata": {
    "execution": {
     "iopub.execute_input": "2023-04-16T16:23:20.075176Z",
     "iopub.status.busy": "2023-04-16T16:23:20.074921Z",
     "iopub.status.idle": "2023-04-16T16:23:20.079145Z",
     "shell.execute_reply": "2023-04-16T16:23:20.078277Z",
     "shell.execute_reply.started": "2023-04-16T16:23:20.075159Z"
    },
    "tags": []
   },
   "outputs": [],
   "source": [
    "# https://databricks-prod-cloudfront.cloud.databricks.com/public/4027ec902e239c93eaaa8714f173bcfc/968100988546031/3944681434720936/8836542754149149/latest.html"
   ]
  },
  {
   "cell_type": "code",
   "execution_count": 12,
   "id": "e3edc002-56e2-4af6-b1c3-10a47d844bcc",
   "metadata": {
    "execution": {
     "iopub.execute_input": "2023-04-16T16:23:20.561286Z",
     "iopub.status.busy": "2023-04-16T16:23:20.561067Z",
     "iopub.status.idle": "2023-04-16T16:23:23.865829Z",
     "shell.execute_reply": "2023-04-16T16:23:23.865304Z",
     "shell.execute_reply.started": "2023-04-16T16:23:20.561271Z"
    }
   },
   "outputs": [],
   "source": [
    "from great_expectations.data_context.types.base import DataContextConfig\n",
    "from great_expectations.data_context import BaseDataContext"
   ]
  },
  {
   "cell_type": "code",
   "execution_count": null,
   "id": "407da250-798d-438e-9c44-7ac5d4b17d10",
   "metadata": {
    "tags": []
   },
   "outputs": [],
   "source": [
    "project_config = DataContextConfig(\n",
    "    config_version=2,\n",
    "    plugins_directory=None,\n",
    "    config_variables_file_path=None,\n",
    "    datasources={\n",
    "        \"my_spark_datasource\": {\n",
    "            \"data_asset_type\": {\n",
    "                \"class_name\": \"SparkDFDataset\",\n",
    "                \"module_name\": \"great_expectations.dataset\",\n",
    "            },\n",
    "            \"class_name\": \"SparkDFDatasource\",\n",
    "            \"module_name\": \"great_expectations.datasource\",\n",
    "            \"batch_kwargs_generators\": {},\n",
    "        }\n",
    "    },\n",
    "    stores={\n",
    "        \"expectations_S3_store\": {\n",
    "            \"class_name\": \"ExpectationsStore\",\n",
    "            \"store_backend\": {\n",
    "                \"class_name\": \"TupleS3StoreBackend\",\n",
    "                \"bucket\": \"bucket\",  # enter bucket here\n",
    "                \"prefix\": \"ge/expectations\",\n",
    "            },\n",
    "        },\n",
    "        \"validations_S3_store\": {\n",
    "            \"class_name\": \"ValidationsStore\",\n",
    "            \"store_backend\": {\n",
    "                \"class_name\": \"TupleS3StoreBackend\",\n",
    "                \"bucket\": \"bucket\",  # enter bucket here\n",
    "                \"prefix\": \"ge/validation\",\n",
    "            },\n",
    "        },\n",
    "        \"evaluation_parameter_store\": {\"class_name\": \"EvaluationParameterStore\"},\n",
    "    },\n",
    "    expectations_store_name=\"expectations_S3_store\",\n",
    "    validations_store_name=\"validations_S3_store\",\n",
    "    evaluation_parameter_store_name=\"evaluation_parameter_store\",\n",
    "    data_docs_sites={\n",
    "        \"s3_site\": {\n",
    "            \"class_name\": \"SiteBuilder\",\n",
    "            \"store_backend\": {\n",
    "                \"class_name\": \"TupleS3StoreBackend\",\n",
    "                \"bucket\": \"bucket\",  # enter bucket here\n",
    "                \"prefix\": \"ge/data_docs\",\n",
    "            },\n",
    "            \"site_index_builder\": {\n",
    "                \"class_name\": \"DefaultSiteIndexBuilder\",\n",
    "                \"show_cta_footer\": True,\n",
    "            },\n",
    "        }\n",
    "    },\n",
    "    validation_operators={\n",
    "        \"action_list_operator\": {\n",
    "            \"class_name\": \"ActionListValidationOperator\",\n",
    "            \"action_list\": [\n",
    "                {\n",
    "                    \"name\": \"store_validation_result\",\n",
    "                    \"action\": {\"class_name\": \"StoreValidationResultAction\"},\n",
    "                },\n",
    "                {\n",
    "                    \"name\": \"store_evaluation_params\",\n",
    "                    \"action\": {\"class_name\": \"StoreEvaluationParametersAction\"},\n",
    "                },\n",
    "                {\n",
    "                    \"name\": \"update_data_docs\",\n",
    "                    \"action\": {\"class_name\": \"UpdateDataDocsAction\"},\n",
    "                },\n",
    "            ],\n",
    "        }\n",
    "    },\n",
    "    anonymous_usage_statistics={\"enabled\": True},\n",
    ")"
   ]
  },
  {
   "cell_type": "code",
   "execution_count": null,
   "id": "144d1a70-4a9f-4796-90da-9daca7c74872",
   "metadata": {},
   "outputs": [],
   "source": [
    "context = BaseDataContext(project_config=project_config)"
   ]
  },
  {
   "cell_type": "code",
   "execution_count": null,
   "id": "c444ec32-1c6f-436f-a7d9-829e420a4159",
   "metadata": {},
   "outputs": [],
   "source": [
    "suite = context.create_expectation_suite('tutorial')"
   ]
  },
  {
   "cell_type": "code",
   "execution_count": null,
   "id": "9a04bd73-0c6b-4a3f-ac46-aae372a19694",
   "metadata": {},
   "outputs": [],
   "source": [
    "batch_kwargs = {\"datasource\": \"my_spark_datasource\", \"dataset\": df}"
   ]
  },
  {
   "cell_type": "code",
   "execution_count": null,
   "id": "8f6fc177-f532-49f3-b753-29f67ce6779d",
   "metadata": {},
   "outputs": [],
   "source": [
    "batch = context.get_batch(batch_kwargs=batch_kwargs, expectation_suite_name=suite)"
   ]
  },
  {
   "cell_type": "code",
   "execution_count": null,
   "id": "078e2cb2-7556-419f-b3f4-dea48b140d39",
   "metadata": {},
   "outputs": [],
   "source": []
  },
  {
   "cell_type": "code",
   "execution_count": null,
   "id": "1ce76874-c9e6-47e4-b609-a676e8f5feda",
   "metadata": {},
   "outputs": [],
   "source": [
    "batch.expect_column_values_to_not_be_null('order_id')"
   ]
  },
  {
   "cell_type": "code",
   "execution_count": null,
   "id": "35caaac0-1a10-48a4-906c-d48927d2d10e",
   "metadata": {},
   "outputs": [],
   "source": [
    "batch.save_expectation_suite(discard_failed_expectations=False)"
   ]
  },
  {
   "cell_type": "code",
   "execution_count": null,
   "id": "563d3418-0766-4c8d-b152-e6e2b649ee14",
   "metadata": {},
   "outputs": [],
   "source": []
  },
  {
   "cell_type": "code",
   "execution_count": null,
   "id": "27f90914-72f7-4ec5-86d4-f67e7be009e9",
   "metadata": {},
   "outputs": [],
   "source": [
    "results = context.run_validation_operator(\"action_list_operator\", assets_to_validate=[batch])\n",
    "validation_result_identifier = results.list_validation_result_identifiers()[0]context.build_data_docs()"
   ]
  }
 ],
 "metadata": {
  "kernelspec": {
   "display_name": "Python 3 (ipykernel)",
   "language": "python",
   "name": "python3"
  },
  "language_info": {
   "codemirror_mode": {
    "name": "ipython",
    "version": 3
   },
   "file_extension": ".py",
   "mimetype": "text/x-python",
   "name": "python",
   "nbconvert_exporter": "python",
   "pygments_lexer": "ipython3",
   "version": "3.10.6"
  }
 },
 "nbformat": 4,
 "nbformat_minor": 5
}
