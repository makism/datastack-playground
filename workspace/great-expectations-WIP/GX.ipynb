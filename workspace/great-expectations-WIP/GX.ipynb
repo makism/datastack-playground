{
 "cells": [
  {
   "cell_type": "code",
   "execution_count": 1,
   "id": "298d77b8-64b0-40a9-933e-87af930932b6",
   "metadata": {
    "execution": {
     "iopub.execute_input": "2023-04-14T19:26:45.848377Z",
     "iopub.status.busy": "2023-04-14T19:26:45.848125Z",
     "iopub.status.idle": "2023-04-14T19:26:47.721794Z",
     "shell.execute_reply": "2023-04-14T19:26:47.721059Z",
     "shell.execute_reply.started": "2023-04-14T19:26:45.848356Z"
    },
    "tags": []
   },
   "outputs": [],
   "source": [
    "import great_expectations as ge"
   ]
  },
  {
   "cell_type": "code",
   "execution_count": 2,
   "id": "9d5c6f8a-8d99-4302-9d0d-ff0cec8261bd",
   "metadata": {
    "execution": {
     "iopub.execute_input": "2023-04-14T19:26:52.091563Z",
     "iopub.status.busy": "2023-04-14T19:26:52.091330Z",
     "iopub.status.idle": "2023-04-14T19:26:52.096571Z",
     "shell.execute_reply": "2023-04-14T19:26:52.095578Z",
     "shell.execute_reply.started": "2023-04-14T19:26:52.091549Z"
    },
    "tags": []
   },
   "outputs": [],
   "source": [
    "import pyspark\n",
    "from pyspark.sql import SparkSession\n",
    "from pyspark.sql import functions as F"
   ]
  },
  {
   "cell_type": "code",
   "execution_count": 3,
   "id": "1101e4e9-2a1e-42a7-947b-be5a77e30cb7",
   "metadata": {
    "execution": {
     "iopub.execute_input": "2023-04-14T19:26:56.002483Z",
     "iopub.status.busy": "2023-04-14T19:26:56.001895Z",
     "iopub.status.idle": "2023-04-14T19:27:02.596228Z",
     "shell.execute_reply": "2023-04-14T19:27:02.594226Z",
     "shell.execute_reply.started": "2023-04-14T19:26:56.002450Z"
    },
    "tags": []
   },
   "outputs": [
    {
     "name": "stdout",
     "output_type": "stream",
     "text": [
      ":: loading settings :: url = jar:file:/usr/local/lib/python3.10/dist-packages/pyspark/jars/ivy-2.5.0.jar!/org/apache/ivy/core/settings/ivysettings.xml\n"
     ]
    },
    {
     "name": "stderr",
     "output_type": "stream",
     "text": [
      "Ivy Default Cache set to: /root/.ivy2/cache\n",
      "The jars for the packages stored in: /root/.ivy2/jars\n",
      "io.delta#delta-core_2.12 added as a dependency\n",
      "com.amazonaws#aws-java-sdk-bundle added as a dependency\n",
      "org.apache.hadoop#hadoop-aws added as a dependency\n",
      ":: resolving dependencies :: org.apache.spark#spark-submit-parent-d8f9a949-9708-4330-a094-bd3c949ed3ea;1.0\n",
      "\tconfs: [default]\n",
      "\tfound io.delta#delta-core_2.12;2.1.0 in central\n",
      "\tfound io.delta#delta-storage;2.1.0 in central\n",
      "\tfound org.antlr#antlr4-runtime;4.8 in central\n",
      "\tfound org.codehaus.jackson#jackson-core-asl;1.9.13 in central\n",
      "\tfound com.amazonaws#aws-java-sdk-bundle;1.12.262 in central\n",
      "\tfound org.apache.hadoop#hadoop-aws;3.3.4 in central\n",
      "\tfound org.wildfly.openssl#wildfly-openssl;1.0.7.Final in central\n",
      ":: resolution report :: resolve 311ms :: artifacts dl 18ms\n",
      "\t:: modules in use:\n",
      "\tcom.amazonaws#aws-java-sdk-bundle;1.12.262 from central in [default]\n",
      "\tio.delta#delta-core_2.12;2.1.0 from central in [default]\n",
      "\tio.delta#delta-storage;2.1.0 from central in [default]\n",
      "\torg.antlr#antlr4-runtime;4.8 from central in [default]\n",
      "\torg.apache.hadoop#hadoop-aws;3.3.4 from central in [default]\n",
      "\torg.codehaus.jackson#jackson-core-asl;1.9.13 from central in [default]\n",
      "\torg.wildfly.openssl#wildfly-openssl;1.0.7.Final from central in [default]\n",
      "\t---------------------------------------------------------------------\n",
      "\t|                  |            modules            ||   artifacts   |\n",
      "\t|       conf       | number| search|dwnlded|evicted|| number|dwnlded|\n",
      "\t---------------------------------------------------------------------\n",
      "\t|      default     |   7   |   0   |   0   |   0   ||   7   |   0   |\n",
      "\t---------------------------------------------------------------------\n",
      ":: retrieving :: org.apache.spark#spark-submit-parent-d8f9a949-9708-4330-a094-bd3c949ed3ea\n",
      "\tconfs: [default]\n",
      "\t0 artifacts copied, 7 already retrieved (0kB/12ms)\n"
     ]
    },
    {
     "name": "stdout",
     "output_type": "stream",
     "text": [
      "23/04/14 19:26:58 WARN NativeCodeLoader: Unable to load native-hadoop library for your platform... using builtin-java classes where applicable\n"
     ]
    },
    {
     "name": "stderr",
     "output_type": "stream",
     "text": [
      "Setting default log level to \"WARN\".\n",
      "To adjust logging level use sc.setLogLevel(newLevel). For SparkR, use setLogLevel(newLevel).\n"
     ]
    }
   ],
   "source": [
    "spark = (\n",
    "    SparkSession.builder.appName(\"pyspark-notebook\")\n",
    "    .master(\"spark://spark-master:7077\")\n",
    "    .config(\"spark.sql.extensions\", \"io.delta.sql.DeltaSparkSessionExtension\")\n",
    "    .config(\"spark.sql.catalog.spark_catalog\", \"org.apache.spark.sql.delta.catalog.DeltaCatalog\")\n",
    "    .config(\"spark.hadoop.fs.s3a.impl\", \"org.apache.hadoop.fs.s3a.S3AFileSystem\")\n",
    "    .getOrCreate()\n",
    ")"
   ]
  },
  {
   "cell_type": "code",
   "execution_count": 4,
   "id": "6ec31a3d-e3c9-414c-bffb-c69e894c76d6",
   "metadata": {
    "execution": {
     "iopub.execute_input": "2023-04-14T19:27:02.607168Z",
     "iopub.status.busy": "2023-04-14T19:27:02.606450Z",
     "iopub.status.idle": "2023-04-14T19:27:03.087538Z",
     "shell.execute_reply": "2023-04-14T19:27:03.085676Z",
     "shell.execute_reply.started": "2023-04-14T19:27:02.607105Z"
    },
    "tags": []
   },
   "outputs": [],
   "source": [
    "spark._jsc.hadoopConfiguration().set(\"fs.s3a.access.key\", \"minio\")\n",
    "spark._jsc.hadoopConfiguration().set(\"fs.s3a.secret.key\", \"minio123\")\n",
    "spark._jsc.hadoopConfiguration().set(\"fs.s3a.endpoint\", \"http://172.18.0.2:9000\")"
   ]
  },
  {
   "cell_type": "code",
   "execution_count": 5,
   "id": "4ef47470-1f42-4dee-b786-539b103b09fb",
   "metadata": {
    "execution": {
     "iopub.execute_input": "2023-04-14T19:28:45.494730Z",
     "iopub.status.busy": "2023-04-14T19:28:45.494419Z",
     "iopub.status.idle": "2023-04-14T19:28:55.710390Z",
     "shell.execute_reply": "2023-04-14T19:28:55.708878Z",
     "shell.execute_reply.started": "2023-04-14T19:28:45.494711Z"
    },
    "tags": []
   },
   "outputs": [
    {
     "name": "stdout",
     "output_type": "stream",
     "text": [
      "23/04/14 19:28:46 WARN MetricsConfig: Cannot locate configuration: tried hadoop-metrics2-s3a-file-system.properties,hadoop-metrics2.properties\n"
     ]
    },
    {
     "name": "stderr",
     "output_type": "stream",
     "text": [
      "                                                                                \r"
     ]
    }
   ],
   "source": [
    "df = spark.read.format(\"csv\").load(\"s3a://incoming/yellow_tripdata_sample_2019_01.csv\")"
   ]
  },
  {
   "cell_type": "code",
   "execution_count": 6,
   "id": "129a7a80-f132-44ec-b34d-71ab87c46043",
   "metadata": {
    "execution": {
     "iopub.execute_input": "2023-04-14T19:29:04.405386Z",
     "iopub.status.busy": "2023-04-14T19:29:04.405165Z",
     "iopub.status.idle": "2023-04-14T19:29:04.440640Z",
     "shell.execute_reply": "2023-04-14T19:29:04.439977Z",
     "shell.execute_reply.started": "2023-04-14T19:29:04.405369Z"
    },
    "tags": []
   },
   "outputs": [],
   "source": [
    "df_ge = ge.dataset.SparkDFDataset(df)"
   ]
  },
  {
   "cell_type": "code",
   "execution_count": 7,
   "id": "8832242f-5bc0-4fc2-916a-2913c73617ee",
   "metadata": {
    "execution": {
     "iopub.execute_input": "2023-04-14T19:29:10.294591Z",
     "iopub.status.busy": "2023-04-14T19:29:10.294311Z",
     "iopub.status.idle": "2023-04-14T19:29:10.298382Z",
     "shell.execute_reply": "2023-04-14T19:29:10.297478Z",
     "shell.execute_reply.started": "2023-04-14T19:29:10.294568Z"
    },
    "tags": []
   },
   "outputs": [],
   "source": [
    "# df_ge.spark_df.count()"
   ]
  },
  {
   "cell_type": "code",
   "execution_count": 8,
   "id": "6b74bdb2-4030-4fa6-af77-e05c4d6d1e30",
   "metadata": {
    "execution": {
     "iopub.execute_input": "2023-04-14T19:29:16.867935Z",
     "iopub.status.busy": "2023-04-14T19:29:16.867695Z",
     "iopub.status.idle": "2023-04-14T19:29:18.030599Z",
     "shell.execute_reply": "2023-04-14T19:29:18.029271Z",
     "shell.execute_reply.started": "2023-04-14T19:29:16.867921Z"
    },
    "tags": []
   },
   "outputs": [
    {
     "data": {
      "text/plain": [
       "{\n",
       "  \"success\": true,\n",
       "  \"exception_info\": {\n",
       "    \"raised_exception\": false,\n",
       "    \"exception_traceback\": null,\n",
       "    \"exception_message\": null\n",
       "  },\n",
       "  \"meta\": {},\n",
       "  \"result\": {\n",
       "    \"observed_value\": 16\n",
       "  }\n",
       "}"
      ]
     },
     "execution_count": 8,
     "metadata": {},
     "output_type": "execute_result"
    }
   ],
   "source": [
    "df_ge.expect_table_row_count_to_be_between(1,20)"
   ]
  },
  {
   "cell_type": "code",
   "execution_count": 9,
   "id": "becd9284-7b34-42d6-bd3b-eb5cd25047fc",
   "metadata": {
    "execution": {
     "iopub.execute_input": "2023-04-14T19:29:18.032754Z",
     "iopub.status.busy": "2023-04-14T19:29:18.032363Z",
     "iopub.status.idle": "2023-04-14T19:29:18.037324Z",
     "shell.execute_reply": "2023-04-14T19:29:18.036155Z",
     "shell.execute_reply.started": "2023-04-14T19:29:18.032724Z"
    },
    "tags": []
   },
   "outputs": [],
   "source": [
    "# https://databricks-prod-cloudfront.cloud.databricks.com/public/4027ec902e239c93eaaa8714f173bcfc/968100988546031/3944681434720936/8836542754149149/latest.html"
   ]
  }
 ],
 "metadata": {
  "kernelspec": {
   "display_name": "Python 3 (ipykernel)",
   "language": "python",
   "name": "python3"
  },
  "language_info": {
   "codemirror_mode": {
    "name": "ipython",
    "version": 3
   },
   "file_extension": ".py",
   "mimetype": "text/x-python",
   "name": "python",
   "nbconvert_exporter": "python",
   "pygments_lexer": "ipython3",
   "version": "3.10.6"
  }
 },
 "nbformat": 4,
 "nbformat_minor": 5
}
